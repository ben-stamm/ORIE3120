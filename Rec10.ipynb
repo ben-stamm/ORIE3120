{
 "cells": [
  {
   "cell_type": "markdown",
   "metadata": {},
   "source": [
    "# Recitation 10: Causality\n",
    "Due by Friday April 30 at 11:59pm\n",
    "\n",
    "In this recitation you will get some experience understanding the impact of price on requests for Uber trips in New York City, how causality plays a role in estimating this impact, and how one can use an A/B experiment to better understand this impact."
   ]
  },
  {
   "cell_type": "code",
   "execution_count": 1,
   "metadata": {},
   "outputs": [],
   "source": [
    "import pandas as pd\n",
    "import matplotlib.pyplot as plt\n",
    "import numpy as np"
   ]
  },
  {
   "cell_type": "markdown",
   "metadata": {},
   "source": [
    "### Part 1: Exploratory Data Analysis"
   ]
  },
  {
   "cell_type": "markdown",
   "metadata": {},
   "source": [
    "Begin by reading in `uber_rec10.csv` and printing out the first 5 rows.\n",
    "\n",
    "This is a file with realistic (but not real) data based on the NYC taxi dataset. \n",
    "\n",
    "For each zone (location_id) in NYC and each hour of day, for 4 saturdays in July 2017, it contains:\n",
    "* sessions: the number of sessions from riders\n",
    "* drivers: the number of drivers\n",
    "* desire_to_ride: a number indicating riders' price elasticity, i.e., how much an increase in price would discourage them from taking a trip. This would not typically be observed in reality but is provided to allow simulation. Typically, when we have a larger desire to ride, this is because of some event (it's raining, a big concert just got out) and we also see more sessions than usual.\n",
    "\n",
    "\n",
    "Then number of sessions is the number of people who are looking at the rider app, interested in taking a trip if the price is right. Some sessions \"convert\", i.e., request a car, while others do not. The price is the biggest factor in determining whether a session converts --- lower prices cause more conversion. The focus of this recitation will be understanding the causal impact of price on session conversion. \n",
    "\n",
    "You can see the map for zones in Manhattan here, https://www1.nyc.gov/assets/tlc/images/content/pages/about/taxi_zone_map_manhattan.jpg and the maps for the other borroughs here: https://www1.nyc.gov/site/tlc/about/tlc-trip-record-data.page (scroll down to \"Taxi Zone Maps and Lookup Tables\")"
   ]
  },
  {
   "cell_type": "code",
   "execution_count": 8,
   "metadata": {
    "scrolled": true
   },
   "outputs": [
    {
     "data": {
      "text/html": [
       "<div>\n",
       "<style scoped>\n",
       "    .dataframe tbody tr th:only-of-type {\n",
       "        vertical-align: middle;\n",
       "    }\n",
       "\n",
       "    .dataframe tbody tr th {\n",
       "        vertical-align: top;\n",
       "    }\n",
       "\n",
       "    .dataframe thead th {\n",
       "        text-align: right;\n",
       "    }\n",
       "</style>\n",
       "<table border=\"1\" class=\"dataframe\">\n",
       "  <thead>\n",
       "    <tr style=\"text-align: right;\">\n",
       "      <th></th>\n",
       "      <th>location_id</th>\n",
       "      <th>pickup_hour</th>\n",
       "      <th>pickup_date</th>\n",
       "      <th>sessions</th>\n",
       "      <th>drivers</th>\n",
       "      <th>desire_to_ride</th>\n",
       "    </tr>\n",
       "  </thead>\n",
       "  <tbody>\n",
       "    <tr>\n",
       "      <th>0</th>\n",
       "      <td>144</td>\n",
       "      <td>20</td>\n",
       "      <td>2017-07-14</td>\n",
       "      <td>436.0</td>\n",
       "      <td>137.0</td>\n",
       "      <td>0.862876</td>\n",
       "    </tr>\n",
       "    <tr>\n",
       "      <th>1</th>\n",
       "      <td>226</td>\n",
       "      <td>8</td>\n",
       "      <td>2017-07-07</td>\n",
       "      <td>168.0</td>\n",
       "      <td>47.0</td>\n",
       "      <td>0.958855</td>\n",
       "    </tr>\n",
       "    <tr>\n",
       "      <th>2</th>\n",
       "      <td>170</td>\n",
       "      <td>19</td>\n",
       "      <td>2017-07-28</td>\n",
       "      <td>706.0</td>\n",
       "      <td>163.0</td>\n",
       "      <td>1.052971</td>\n",
       "    </tr>\n",
       "    <tr>\n",
       "      <th>3</th>\n",
       "      <td>249</td>\n",
       "      <td>7</td>\n",
       "      <td>2017-07-28</td>\n",
       "      <td>284.0</td>\n",
       "      <td>59.0</td>\n",
       "      <td>1.163299</td>\n",
       "    </tr>\n",
       "    <tr>\n",
       "      <th>4</th>\n",
       "      <td>255</td>\n",
       "      <td>9</td>\n",
       "      <td>2017-07-07</td>\n",
       "      <td>371.0</td>\n",
       "      <td>66.0</td>\n",
       "      <td>1.605906</td>\n",
       "    </tr>\n",
       "  </tbody>\n",
       "</table>\n",
       "</div>"
      ],
      "text/plain": [
       "   location_id  pickup_hour pickup_date  sessions  drivers  desire_to_ride\n",
       "0          144           20  2017-07-14     436.0    137.0        0.862876\n",
       "1          226            8  2017-07-07     168.0     47.0        0.958855\n",
       "2          170           19  2017-07-28     706.0    163.0        1.052971\n",
       "3          249            7  2017-07-28     284.0     59.0        1.163299\n",
       "4          255            9  2017-07-07     371.0     66.0        1.605906"
      ]
     },
     "execution_count": 8,
     "metadata": {},
     "output_type": "execute_result"
    }
   ],
   "source": [
    "# YOUR CODE HERE\n",
    "df_part1 = pd.read_csv('uber_rec10.csv')\n",
    "df_part1.head()"
   ]
  },
  {
   "cell_type": "markdown",
   "metadata": {},
   "source": [
    "To get a sense for the data, for location_id 249 (the west village in Manhattan --- selected arbitrarily), plot the number of sessions versus the hour of the day, \n",
    "for each of the 4 saturdays in the data, all on one plot.  Since the data isn't sorted by hour, it is easiest to plot using dots."
   ]
  },
  {
   "cell_type": "code",
   "execution_count": 24,
   "metadata": {},
   "outputs": [],
   "source": [
    "# YOUR CODE HERE\n",
    "sat1 = df_part1[df_part1['pickup_date'] == '2017-07-07']\n",
    "sat2 = df_part1[df_part1['pickup_date'] == '2017-07-14']\n",
    "sat3 = df_part1[df_part1['pickup_date'] == '2017-07-21']\n",
    "sat4 = df_part1[df_part1['pickup_date'] == '2017-07-28']"
   ]
  },
  {
   "cell_type": "code",
   "execution_count": 28,
   "metadata": {
    "scrolled": true
   },
   "outputs": [
    {
     "data": {
      "text/plain": [
       "[<matplotlib.lines.Line2D at 0x27b24d49080>]"
      ]
     },
     "execution_count": 28,
     "metadata": {},
     "output_type": "execute_result"
    },
    {
     "data": {
      "image/png": "[encoded data removed]",
      "text/plain": [
       "<Figure size 432x288 with 1 Axes>"
      ]
     },
     "metadata": {
      "needs_background": "light"
     },
     "output_type": "display_data"
    }
   ],
   "source": [
    "data1 = sat1[sat1['location_id'] == 249]\n",
    "plt.plot(data1['pickup_hour'], data1['sessions'], '.')"
   ]
  },
  {
   "cell_type": "code",
   "execution_count": 29,
   "metadata": {},
   "outputs": [
    {
     "data": {
      "text/plain": [
       "[<matplotlib.lines.Line2D at 0x27b24d9add8>]"
      ]
     },
     "execution_count": 29,
     "metadata": {},
     "output_type": "execute_result"
    },
    {
     "data": {
      "image/png": "[encoded data removed]",
      "text/plain": [
       "<Figure size 432x288 with 1 Axes>"
      ]
     },
     "metadata": {
      "needs_background": "light"
     },
     "output_type": "display_data"
    }
   ],
   "source": [
    "data2 = sat2[sat2['location_id'] == 249]\n",
    "plt.plot(data2['pickup_hour'], data2['sessions'], '.')"
   ]
  },
  {
   "cell_type": "code",
   "execution_count": 30,
   "metadata": {},
   "outputs": [
    {
     "data": {
      "text/plain": [
       "[<matplotlib.lines.Line2D at 0x27b24dfe278>]"
      ]
     },
     "execution_count": 30,
     "metadata": {},
     "output_type": "execute_result"
    },
    {
     "data": {
      "image/png": "[encoded data removed]",
      "text/plain": [
       "<Figure size 432x288 with 1 Axes>"
      ]
     },
     "metadata": {
      "needs_background": "light"
     },
     "output_type": "display_data"
    }
   ],
   "source": [
    "data3 = sat3[sat3['location_id'] == 249]\n",
    "plt.plot(data3['pickup_hour'], data3['sessions'], '.')"
   ]
  },
  {
   "cell_type": "code",
   "execution_count": 31,
   "metadata": {},
   "outputs": [
    {
     "data": {
      "text/plain": [
       "[<matplotlib.lines.Line2D at 0x27b25e2d588>]"
      ]
     },
     "execution_count": 31,
     "metadata": {},
     "output_type": "execute_result"
    },
    {
     "data": {
      "image/png": "[encoded data removed]",
      "text/plain": [
       "<Figure size 432x288 with 1 Axes>"
      ]
     },
     "metadata": {
      "needs_background": "light"
     },
     "output_type": "display_data"
    }
   ],
   "source": [
    "data4 = sat4[sat4['location_id'] == 249]\n",
    "plt.plot(data4['pickup_hour'], data4['sessions'], '.')"
   ]
  },
  {
   "cell_type": "markdown",
   "metadata": {},
   "source": [
    "Make another plot where each combination of pickup_hour / pickup_date / location_id is a separate dot.\n",
    "Put the number of drivers on the x-axis and the number of sessions on the y-axis.\n",
    "\n",
    "Notice how they are correlated with each other. Uber drivers know where demand will be high and are also guided by \n",
    "a heatmap in the driver app showing surge pricing. This allows supply and demand to be roughly matched, so that there\n",
    "are usually enough drivers to serve demand, but not too many extra drivers (having extra drivers is undesirable, because it\n",
    "means that people are spending time but no one is benefiting from the time being spent)."
   ]
  },
  {
   "cell_type": "code",
   "execution_count": 36,
   "metadata": {},
   "outputs": [
    {
     "data": {
      "text/plain": [
       "[<matplotlib.lines.Line2D at 0x27b26550a20>]"
      ]
     },
     "execution_count": 36,
     "metadata": {},
     "output_type": "execute_result"
    },
    {
     "data": {
      "image/png": "[encoded data removed]",
      "text/plain": [
       "<Figure size 432x288 with 1 Axes>"
      ]
     },
     "metadata": {
      "needs_background": "light"
     },
     "output_type": "display_data"
    }
   ],
   "source": [
    "# YOUR CODE HERE\n",
    "plt.plot(df_part1['drivers'], df_part1['sessions'], '.')"
   ]
  },
  {
   "cell_type": "markdown",
   "metadata": {},
   "source": [
    "Unfortunately, the number of drivers is not always perfectly matched to the number of sessions. In other words, supply is not always balanced with demand.\n",
    "\n",
    "This is essentially because life holds surprises --- sometimes things are busier than usual for unexpected reasons.\n",
    "\n",
    "When this happens, Uber raises the price. In 2017, this was done using the surge pricing system. This charges riders a multiple of the ordinary fare based on, roughly speaking, how many more sessions there are than can be served by the available drivers. If the surge multiple is 2, then riders pay twice the normal fare. If the surge multiple is 1, riders pay the normal fare.\n",
    "\n",
    "This serves two important purposes. First, it compensates drivers more for being smart and hard-working enough to be available when demand was going to be high. That encourages them to continue to be smart and hard-working in the future. Second, since there aren't enough drivers for everyone to take a trip, some people with a session on the rider app aren't going to be able to ride. Raising the price separates the people who have other options (e.g., taking the subway, walking, waiting 10 minutes for more cars to arrive and prices to drop) from those that don't and gives the limited supply of cars to those that \n",
    "are most willing to pay for them."
   ]
  },
  {
   "cell_type": "markdown",
   "metadata": {},
   "source": [
    "The desire to ride is correlated with how balanced supply and demand are. To see this, make a plot of desire to ride (on the x-axis) and the ratio of sessions over drivers (on the y-axis).\n",
    "You should see that when the desire to ride is high, the number of sessions relative to the number of drivers is also high. This is because the same events that cause people to look at the uber app more than usual (rain, a big concert or sporting event that just finished, a public transit outage) also cause them to want to ride on Uber more than usual, and makes many of them willing to pay more money."
   ]
  },
  {
   "cell_type": "code",
   "execution_count": 38,
   "metadata": {},
   "outputs": [
    {
     "data": {
      "text/plain": [
       "[<matplotlib.lines.Line2D at 0x27b261f7a90>]"
      ]
     },
     "execution_count": 38,
     "metadata": {},
     "output_type": "execute_result"
    },
    {
     "data": {
      "image/png": "[encoded data removed]",
      "text/plain": [
       "<Figure size 432x288 with 1 Axes>"
      ]
     },
     "metadata": {
      "needs_background": "light"
     },
     "output_type": "display_data"
    }
   ],
   "source": [
    "# YOUR CODE HERE\n",
    "plt.plot(df_part1['desire_to_ride'], df_part1['sessions']/df_part1['drivers'], '.')"
   ]
  },
  {
   "cell_type": "markdown",
   "metadata": {},
   "source": [
    "### Part 2: Simulating the effect of prices on conversion"
   ]
  },
  {
   "cell_type": "markdown",
   "metadata": {},
   "source": [
    "We are going to simulate prices set by the surge system and the effect that has on session conversion.  We begin by defining a function, `conversion_rate`, that accepts a surge multiplier set in the hour and location_id, as well as the desire_to_ride value for that hour and location_id from the data we read in. In our simulation, this will give the conversion rate for our riders."
   ]
  },
  {
   "cell_type": "code",
   "execution_count": 40,
   "metadata": {},
   "outputs": [],
   "source": [
    "def conversion_rate(surge, desire_to_ride):\n",
    "    return min(1,max(0,0.8 - (surge-1)/desire_to_ride))"
   ]
  },
  {
   "cell_type": "markdown",
   "metadata": {},
   "source": [
    "Make a plot of the conversion rate versus surge multiplier, over the range of surge multipliers from 1 to 2, for three different values of the desire_to_ride: 0.5, 1, and 2.\n",
    "\n",
    "You should see that when the desire_to_ride is high, price has a smaller impact on conversion."
   ]
  },
  {
   "cell_type": "code",
   "execution_count": 69,
   "metadata": {},
   "outputs": [
    {
     "data": {
      "text/html": [
       "<div>\n",
       "<style scoped>\n",
       "    .dataframe tbody tr th:only-of-type {\n",
       "        vertical-align: middle;\n",
       "    }\n",
       "\n",
       "    .dataframe tbody tr th {\n",
       "        vertical-align: top;\n",
       "    }\n",
       "\n",
       "    .dataframe thead th {\n",
       "        text-align: right;\n",
       "    }\n",
       "</style>\n",
       "<table border=\"1\" class=\"dataframe\">\n",
       "  <thead>\n",
       "    <tr style=\"text-align: right;\">\n",
       "      <th></th>\n",
       "      <th>surge</th>\n",
       "      <th>conversion_rates_0</th>\n",
       "      <th>conversion_rates_1</th>\n",
       "      <th>conversion_rates_2</th>\n",
       "    </tr>\n",
       "  </thead>\n",
       "  <tbody>\n",
       "    <tr>\n",
       "      <th>0</th>\n",
       "      <td>1.0</td>\n",
       "      <td>8.000000e-01</td>\n",
       "      <td>0.8</td>\n",
       "      <td>0.80</td>\n",
       "    </tr>\n",
       "    <tr>\n",
       "      <th>1</th>\n",
       "      <td>1.1</td>\n",
       "      <td>6.000000e-01</td>\n",
       "      <td>0.7</td>\n",
       "      <td>0.75</td>\n",
       "    </tr>\n",
       "    <tr>\n",
       "      <th>2</th>\n",
       "      <td>1.2</td>\n",
       "      <td>4.000000e-01</td>\n",
       "      <td>0.6</td>\n",
       "      <td>0.70</td>\n",
       "    </tr>\n",
       "    <tr>\n",
       "      <th>3</th>\n",
       "      <td>1.3</td>\n",
       "      <td>2.000000e-01</td>\n",
       "      <td>0.5</td>\n",
       "      <td>0.65</td>\n",
       "    </tr>\n",
       "    <tr>\n",
       "      <th>4</th>\n",
       "      <td>1.4</td>\n",
       "      <td>2.220446e-16</td>\n",
       "      <td>0.4</td>\n",
       "      <td>0.60</td>\n",
       "    </tr>\n",
       "  </tbody>\n",
       "</table>\n",
       "</div>"
      ],
      "text/plain": [
       "   surge  conversion_rates_0  conversion_rates_1  conversion_rates_2\n",
       "0    1.0        8.000000e-01                 0.8                0.80\n",
       "1    1.1        6.000000e-01                 0.7                0.75\n",
       "2    1.2        4.000000e-01                 0.6                0.70\n",
       "3    1.3        2.000000e-01                 0.5                0.65\n",
       "4    1.4        2.220446e-16                 0.4                0.60"
      ]
     },
     "execution_count": 69,
     "metadata": {},
     "output_type": "execute_result"
    }
   ],
   "source": [
    "# YOUR CODE HERE\n",
    "surge_multipliers = [1.0,1.1,1.2,1.3,1.4,1.5,1.6,1.7,1.8,1.9,2.0]\n",
    "desire_to_ride = [0.5, 1, 2]\n",
    "plot_data = pd.DataFrame()\n",
    "surges = []\n",
    "conversion_rates0 = []\n",
    "conversion_rates1 = []\n",
    "conversion_rates2 = []\n",
    "\n",
    "for i in surge_multipliers:\n",
    "    surges.append(i)\n",
    "    for j in desire_to_ride:\n",
    "        if j == 0.5:\n",
    "            conversion_rates0.append(conversion_rate(i,j))\n",
    "        elif j == 1:\n",
    "            conversion_rates1.append(conversion_rate(i,j))\n",
    "        elif j == 2:\n",
    "            conversion_rates2.append(conversion_rate(i,j))\n",
    "        \n",
    "plot_data['surge'] = surges\n",
    "plot_data['conversion_rates_0'] = conversion_rates0\n",
    "plot_data['conversion_rates_1'] = conversion_rates1\n",
    "plot_data['conversion_rates_2'] = conversion_rates2\n",
    "plot_data.head()"
   ]
  },
  {
   "cell_type": "code",
   "execution_count": 70,
   "metadata": {
    "scrolled": true
   },
   "outputs": [
    {
     "data": {
      "text/plain": [
       "[<matplotlib.lines.Line2D at 0x27b2645b7f0>]"
      ]
     },
     "execution_count": 70,
     "metadata": {},
     "output_type": "execute_result"
    },
    {
     "data": {
      "image/png": "[encoded data removed]",
      "text/plain": [
       "<Figure size 432x288 with 1 Axes>"
      ]
     },
     "metadata": {
      "needs_background": "light"
     },
     "output_type": "display_data"
    }
   ],
   "source": [
    "plt.plot(plot_data['surge'],plot_data['conversion_rates_0'],color='red')\n",
    "plt.plot(plot_data['surge'],plot_data['conversion_rates_1'],color='orange')\n",
    "plt.plot(plot_data['surge'],plot_data['conversion_rates_2'],color='green')"
   ]
  },
  {
   "cell_type": "markdown",
   "metadata": {},
   "source": [
    "**Analysis: If desire to ride is higher (green, then orange, then red data), then as the surge multiplier increases along the x-axis, the conversion rate decreases. For the green data (highest desire to ride), the conversion rate decreases the smallest as the surge multipier increases when compared with the orange and red data (lower desires to ride). This is expected as indicated in the problem.**"
   ]
  },
  {
   "cell_type": "markdown",
   "metadata": {},
   "source": [
    "Now define a surge pricing function. This searches for the smallest surge multiple (greater than or equal to 1) such that the available drivers in the location_id can serve all of the sessions that convert in that hour, according to a prediction for conversion rate. Because the desire_to_ride is unknown to the surge pricing system, use the average desire_to_ride in the dataset. For the purposes of this recitation, assume that a driver can do 3 trips in an hour.\n",
    "\n",
    "Your function should start at a surge of 1 and then increase the surge multiple in increments of 0.1. It should stop when it finds the first price such that the number of sessions that would convert (at the average desire_to_ride in the dataset) is below 3 * the number of drivers. \n",
    "\n",
    "If it reaches 3, stop, making 3 the highest multiple your algorithm will produce.  (Since we aren't willing to raise the price any more, we would tell some riders who will willing to pay more than 3x that no cars are available.)\n",
    "\n",
    "\n",
    "The first line of your solution should be:\n",
    "`def surge_multiple(drivers,sessions):`\n",
    "\n",
    "Your function should return the surge multiple it finds."
   ]
  },
  {
   "cell_type": "code",
   "execution_count": 73,
   "metadata": {},
   "outputs": [],
   "source": [
    "#find average desire_to_ride\n",
    "avg = df_part1['desire_to_ride'].mean()"
   ]
  },
  {
   "cell_type": "code",
   "execution_count": 83,
   "metadata": {},
   "outputs": [],
   "source": [
    "# YOUR CODE HERE\n",
    "surge_multipliers2 = np.arange(1,3,0.1)\n",
    "def surge_multiple(drivers,sessions):\n",
    "    for surge in surge_multipliers2:\n",
    "        converting_sessions = sessions * conversion_rate(surge, avg)\n",
    "        if drivers*3 > converting_sessions:\n",
    "            return(surge)"
   ]
  },
  {
   "cell_type": "markdown",
   "metadata": {},
   "source": [
    "Then use your function to calculate the surge multiple for each location_id and hour in the dataset and put it into your dataframe.  Put this into a field called `surge`. \n",
    "\n",
    "Also create another field called `conversion` that calculates the conversion rate at this surge multiplier, using the value of `desire_to_ride` in this hour and location_id."
   ]
  },
  {
   "cell_type": "code",
   "execution_count": 79,
   "metadata": {
    "scrolled": true
   },
   "outputs": [
    {
     "data": {
      "text/html": [
       "<div>\n",
       "<style scoped>\n",
       "    .dataframe tbody tr th:only-of-type {\n",
       "        vertical-align: middle;\n",
       "    }\n",
       "\n",
       "    .dataframe tbody tr th {\n",
       "        vertical-align: top;\n",
       "    }\n",
       "\n",
       "    .dataframe thead th {\n",
       "        text-align: right;\n",
       "    }\n",
       "</style>\n",
       "<table border=\"1\" class=\"dataframe\">\n",
       "  <thead>\n",
       "    <tr style=\"text-align: right;\">\n",
       "      <th></th>\n",
       "      <th>location_id</th>\n",
       "      <th>pickup_hour</th>\n",
       "      <th>pickup_date</th>\n",
       "      <th>sessions</th>\n",
       "      <th>drivers</th>\n",
       "      <th>desire_to_ride</th>\n",
       "    </tr>\n",
       "  </thead>\n",
       "  <tbody>\n",
       "    <tr>\n",
       "      <th>0</th>\n",
       "      <td>144</td>\n",
       "      <td>20</td>\n",
       "      <td>2017-07-14</td>\n",
       "      <td>436.0</td>\n",
       "      <td>137.0</td>\n",
       "      <td>0.862876</td>\n",
       "    </tr>\n",
       "    <tr>\n",
       "      <th>1</th>\n",
       "      <td>226</td>\n",
       "      <td>8</td>\n",
       "      <td>2017-07-07</td>\n",
       "      <td>168.0</td>\n",
       "      <td>47.0</td>\n",
       "      <td>0.958855</td>\n",
       "    </tr>\n",
       "    <tr>\n",
       "      <th>2</th>\n",
       "      <td>170</td>\n",
       "      <td>19</td>\n",
       "      <td>2017-07-28</td>\n",
       "      <td>706.0</td>\n",
       "      <td>163.0</td>\n",
       "      <td>1.052971</td>\n",
       "    </tr>\n",
       "    <tr>\n",
       "      <th>3</th>\n",
       "      <td>249</td>\n",
       "      <td>7</td>\n",
       "      <td>2017-07-28</td>\n",
       "      <td>284.0</td>\n",
       "      <td>59.0</td>\n",
       "      <td>1.163299</td>\n",
       "    </tr>\n",
       "    <tr>\n",
       "      <th>4</th>\n",
       "      <td>255</td>\n",
       "      <td>9</td>\n",
       "      <td>2017-07-07</td>\n",
       "      <td>371.0</td>\n",
       "      <td>66.0</td>\n",
       "      <td>1.605906</td>\n",
       "    </tr>\n",
       "  </tbody>\n",
       "</table>\n",
       "</div>"
      ],
      "text/plain": [
       "   location_id  pickup_hour pickup_date  sessions  drivers  desire_to_ride\n",
       "0          144           20  2017-07-14     436.0    137.0        0.862876\n",
       "1          226            8  2017-07-07     168.0     47.0        0.958855\n",
       "2          170           19  2017-07-28     706.0    163.0        1.052971\n",
       "3          249            7  2017-07-28     284.0     59.0        1.163299\n",
       "4          255            9  2017-07-07     371.0     66.0        1.605906"
      ]
     },
     "execution_count": 79,
     "metadata": {},
     "output_type": "execute_result"
    }
   ],
   "source": [
    "# YOUR CODE HERE\n",
    "df_part1.head()"
   ]
  },
  {
   "cell_type": "code",
   "execution_count": 98,
   "metadata": {},
   "outputs": [],
   "source": [
    "surge_array=[]\n",
    "for index,row in df_part1.iterrows():\n",
    "    surge_array.append(surge_multiple(row['drivers'],row['sessions']))\n",
    "df_part1['surge'] = surge_array"
   ]
  },
  {
   "cell_type": "code",
   "execution_count": 106,
   "metadata": {},
   "outputs": [],
   "source": [
    "conversion_array=[]\n",
    "for index,row in df_part1.iterrows():\n",
    "    conversion_array.append(conversion_rate(row['surge'],row['desire_to_ride']))\n",
    "df_part1['conversion'] = conversion_array"
   ]
  },
  {
   "cell_type": "markdown",
   "metadata": {},
   "source": [
    "Make a histogram of the surge multipliers in your dataframe.  You should see that the most common surge multiplier is 1, none are below 1, and most are less than 1.5"
   ]
  },
  {
   "cell_type": "code",
   "execution_count": 108,
   "metadata": {},
   "outputs": [
    {
     "data": {
      "text/plain": [
       "(array([5.346e+03, 2.561e+03, 1.658e+03, 6.230e+02, 0.000e+00, 1.460e+02,\n",
       "        2.000e+01, 9.000e+00, 2.000e+00, 1.000e+00]),\n",
       " array([1.  , 1.08, 1.16, 1.24, 1.32, 1.4 , 1.48, 1.56, 1.64, 1.72, 1.8 ]),\n",
       " <a list of 10 Patch objects>)"
      ]
     },
     "execution_count": 108,
     "metadata": {},
     "output_type": "execute_result"
    },
    {
     "data": {
      "image/png": "[encoded data removed]",
      "text/plain": [
       "<Figure size 432x288 with 1 Axes>"
      ]
     },
     "metadata": {
      "needs_background": "light"
     },
     "output_type": "display_data"
    }
   ],
   "source": [
    "# YOUR CODE HERE\n",
    "plt.hist(df_part1['surge'], align='left')"
   ]
  },
  {
   "cell_type": "markdown",
   "metadata": {},
   "source": [
    "Now plot the surge multiplier on the x-axis and the conversion-rate on the y-axis.  We know that the surge price causes conversion to fall, based on `conversion_rate`,\n",
    "but your plot should show that conversion is actually *increasing* in the surge price for part of the domain of the plot.\n",
    "\n",
    "Explain why this is. To support your answer, think about:\n",
    "* the effect that a high desire to ride has on the sessions / drivers ratio (recall the plot you made above)\n",
    "* the effect of the sessions / drivers ratio on surge (plot it, if it's helpful)\n",
    "* the effect that a high desire to ride has on conversion"
   ]
  },
  {
   "cell_type": "code",
   "execution_count": 109,
   "metadata": {
    "scrolled": true
   },
   "outputs": [
    {
     "data": {
      "text/plain": [
       "[<matplotlib.lines.Line2D at 0x27b290b8588>]"
      ]
     },
     "execution_count": 109,
     "metadata": {},
     "output_type": "execute_result"
    },
    {
     "data": {
      "image/png": "[encoded data removed]",
      "text/plain": [
       "<Figure size 432x288 with 1 Axes>"
      ]
     },
     "metadata": {
      "needs_background": "light"
     },
     "output_type": "display_data"
    }
   ],
   "source": [
    "# YOUR CODE AND EXPLANATION HERE\n",
    "plt.plot(df_part1['surge'],df_part1['conversion'], '.')"
   ]
  },
  {
   "cell_type": "code",
   "execution_count": 112,
   "metadata": {},
   "outputs": [
    {
     "data": {
      "text/plain": [
       "[<matplotlib.lines.Line2D at 0x27b2a2c30f0>]"
      ]
     },
     "execution_count": 112,
     "metadata": {},
     "output_type": "execute_result"
    },
    {
     "data": {
      "image/png": "[encoded data removed]",
      "text/plain": [
       "<Figure size 432x288 with 1 Axes>"
      ]
     },
     "metadata": {
      "needs_background": "light"
     },
     "output_type": "display_data"
    }
   ],
   "source": [
    "#Surge vs sessions/drivers to aid with explatation above\n",
    "plt.plot(df_part1['surge'], df_part1['sessions']/df_part1['drivers'],'.')"
   ]
  },
  {
   "cell_type": "markdown",
   "metadata": {},
   "source": [
    "Conversion is increasing for the portion of the graph surge (1.5, 1.8). A higher desire to ride results in a higher sessions/drivers ratio. As shown in the graph created above, a higher surge also results in a higher sessions/drivers ratio. Finally, a high desire to ride results in conversion decreasing slower as surge increases. When taking in to account the following factors, it makes sense that as surge rate reaches an inflection point around 1.5, the conversion rate actually begins to increase as a combination of a) a higher sessions/drivers ratio, as indicated by the analysis in the above graph and b) a higher desire to ride that results in higher surge prices for this data."
   ]
  },
  {
   "cell_type": "markdown",
   "metadata": {},
   "source": [
    "Ultimately, this is an example of causality vs correlation. The higher surge price is not causing the average conversion to increase from surges (1.5,1.8), but rather the hidden confounder of a higher desire to ride (which jusifies the high surge values) can expain the higher conversion at these intervals."
   ]
  },
  {
   "cell_type": "markdown",
   "metadata": {},
   "source": [
    "### A/B experiment\n",
    "\n",
    "One way to deal with the issue that you just saw above is to run an experiment. We will simulate an experiment where  prices are randomly modified in each location_id by a small amount. When considering such experiments, it is important to design them in such a way that market participants are not harmed, by ensuring that the price changes are small and that guardrails are put in place.\n",
    "\n",
    "With probability 50%, assign each location_id, hour, and date to a treatment group that is either 0 (control) or 1 (treatment). Store this in a field called `df['treatment']`.\n",
    "\n",
    "Then, create a new surge multiplier, `df['new_surge']`, that is:\n",
    "* the same as the old surge multiplier for location_id / hour / date assigned to control\n",
    "* the old surge multiplier minus 0.2 for location_id / hour / date assigned to treatment (i.e., if you are a lucky rider in a treated location / hour / date, you get a 20\\% discount)\n",
    "\n",
    "Note that this experiment offers a discount if the original surge multiplier was 1. Driver payments could be designed to be what they would have been without the rider discount. This reduces the impact on market participants."
   ]
  },
  {
   "cell_type": "code",
   "execution_count": 149,
   "metadata": {},
   "outputs": [],
   "source": [
    "# YOUR CODE HERE\n",
    "df_part1['treatment'] = df_part1['location_id'] #initiate the column so treatment exists\n",
    "for index,row in df_part1.iterrows():\n",
    "    x = np.random.randint(0,2)\n",
    "    df_part1.loc[index,'treatment'] = x #replace treatment with its proper value"
   ]
  },
  {
   "cell_type": "code",
   "execution_count": 150,
   "metadata": {},
   "outputs": [],
   "source": [
    "df_part1['new_surge'] = df_part1['location_id'] #initiate the column so new_surge exists\n",
    "for index,row in df_part1.iterrows():\n",
    "    if row['treatment'] == 0:\n",
    "        df_part1.loc[index,'new_surge'] = row['surge'] #replace treatment with its proper value\n",
    "    else:\n",
    "        df_part1.loc[index,'new_surge'] = row['surge'] - 0.2 #replace treatment with its proper value"
   ]
  },
  {
   "cell_type": "markdown",
   "metadata": {},
   "source": [
    "Then calculate a new conversion rate, `df['new_conversion']`, for each location_id / hour / date based on the new surge multiplier."
   ]
  },
  {
   "cell_type": "code",
   "execution_count": 152,
   "metadata": {},
   "outputs": [],
   "source": [
    "# YOUR CODE HERE\n",
    "new_conversion_array=[]\n",
    "for index,row in df_part1.iterrows():\n",
    "    new_conversion_array.append(conversion_rate(row['new_surge'],row['desire_to_ride']))\n",
    "df_part1['new_conversion'] = new_conversion_array"
   ]
  },
  {
   "cell_type": "markdown",
   "metadata": {},
   "source": [
    "Then, using a groupby on surge (before it was modified in the experiment),\n",
    "and using only the location / hour / dates in treatment,\n",
    "calculate the average of the conversion rates that results from the new surge multiplier.\n",
    "Put this a series called `conversion_treatment`.\n",
    "\n",
    "Then do the same thing for control and put the result in `conversion_control`.\n",
    "\n",
    "Plot `conversion_treatment` and `conversion_control` versus surge multplier.\n",
    "Then plot their difference versus the surge multiplier.  \n",
    "\n",
    "This difference is the \"treatment effect\" and quantifies the causal impact on conversion of lowering the surge multiplier by 0.1, as a function of the original value of the surge multplier.\n",
    "You should see that it is positive for all values of the surge multplier. "
   ]
  },
  {
   "cell_type": "code",
   "execution_count": 159,
   "metadata": {},
   "outputs": [],
   "source": [
    "# YOUR CODE HERE\n",
    "conv_treatment = df_part1[df_part1['treatment'] == 1]\n",
    "conv_control = df_part1[df_part1['treatment'] == 0]\n",
    "conversion_treatment = conv_treatment.groupby('surge')['new_conversion'].mean()\n",
    "conversion_control = conv_control.groupby('surge')['new_conversion'].mean()"
   ]
  },
  {
   "cell_type": "code",
   "execution_count": 165,
   "metadata": {},
   "outputs": [
    {
     "data": {
      "text/plain": [
       "[<matplotlib.lines.Line2D at 0x27b2911aef0>]"
      ]
     },
     "execution_count": 165,
     "metadata": {},
     "output_type": "execute_result"
    },
    {
     "data": {
      "image/png": "[encoded data removed]",
      "text/plain": [
       "<Figure size 432x288 with 1 Axes>"
      ]
     },
     "metadata": {
      "needs_background": "light"
     },
     "output_type": "display_data"
    }
   ],
   "source": [
    "plt.plot(conversion_treatment, color = 'black')\n",
    "plt.plot(conversion_control, color='red')"
   ]
  },
  {
   "cell_type": "code",
   "execution_count": 166,
   "metadata": {},
   "outputs": [
    {
     "data": {
      "text/plain": [
       "[<matplotlib.lines.Line2D at 0x27b27d01048>]"
      ]
     },
     "execution_count": 166,
     "metadata": {},
     "output_type": "execute_result"
    },
    {
     "data": {
      "image/png": "[encoded data removed]",
      "text/plain": [
       "<Figure size 432x288 with 1 Axes>"
      ]
     },
     "metadata": {
      "needs_background": "light"
     },
     "output_type": "display_data"
    }
   ],
   "source": [
    "plt.plot(conversion_treatment-conversion_control,color='blue')"
   ]
  }
 ],
 "metadata": {
  "kernelspec": {
   "display_name": "Python 3",
   "language": "python",
   "name": "python3"
  },
  "language_info": {
   "codemirror_mode": {
    "name": "ipython",
    "version": 3
   },
   "file_extension": ".py",
   "mimetype": "text/x-python",
   "name": "python",
   "nbconvert_exporter": "python",
   "pygments_lexer": "ipython3",
   "version": "3.7.3"
  }
 },
 "nbformat": 4,
 "nbformat_minor": 2
}
