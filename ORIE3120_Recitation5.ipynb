{
 "cells": [
  {
   "cell_type": "markdown",
   "metadata": {
    "id": "M_sj9n9iJwxh"
   },
   "source": [
    "# Welcome to ORIE 3120 Recitation 5!\n",
    "This recitation, we'll familiarize ourselves with Python and dive into some interesting data analysis using Python libraries.\n",
    "\n",
    "The easiest way to do this recitation is in Google colab:\n",
    "- Download this .ipynb file from the course website (\"ipynb\" stands for \"interactive python notebook\")\n",
    "- Go to https://colab.research.google.com/\n",
    "- Log in with any google account (it can be your Cornell google account, or a personal account)\n",
    "- Click \"File -> Upload Notebook\" and upload the ipynb file\n",
    "- Also download the CSV file that this recitation uses, \"diabetic_data_orie3120_rec5.csv\", and upload it to Google colab by clicking on the folder icon on the left side of your screen. This opens a sidebar and you can upload the file by clicking on the upload icon. It will take up to a minute for the file to upload.\n",
    "- Do the recitation, entering your answers after each question (the questions are marked by **Q:**)\n",
    "- Google saves your progress as you go, but to be sure it has the latest changes you can always click \"File -> Save\"\n",
    "- When you are done, download the notebook file with your answers using \"File -> Download .ipynb\"\n",
    "\n",
    "When you are done with the recitation, upload your .ipynb file with completed answers to Gradescope.\n"
   ]
  },
  {
   "cell_type": "markdown",
   "metadata": {
    "id": "xKP8Pq4mYyM_"
   },
   "source": [
    "This is a markdown cell. Try double clicking on this cell to correct the typo in this sentence:\n",
    "\n",
    "\"ORIE 3120 teaches practical tools for operations research, data science, and machine learning.\""
   ]
  },
  {
   "cell_type": "markdown",
   "metadata": {
    "id": "Dh9soj6lKB9_"
   },
   "source": [
    "The next cell will import the packages we need. Run it with ctrl-enter (PC) or cmd-enter (mac)."
   ]
  },
  {
   "cell_type": "code",
   "execution_count": 1,
   "metadata": {
    "id": "CoP3YPMlJj1y"
   },
   "outputs": [],
   "source": [
    "import numpy as np\n",
    "import pandas as pd\n",
    "import matplotlib.pyplot as plt\n",
    "import random"
   ]
  },
  {
   "cell_type": "markdown",
   "metadata": {
    "id": "YUdrMdGhJhAq"
   },
   "source": [
    "Let's practice assigning values to variables. We've assigned `a` to have the value 4. \n",
    "\n",
    "**Q1:** Assign `b` to have the value 17 by double-clicking and editing the cell below."
   ]
  },
  {
   "cell_type": "code",
   "execution_count": 2,
   "metadata": {
    "id": "hQe6CpFKKpDq"
   },
   "outputs": [],
   "source": [
    "a = 4\n",
    "b = 17"
   ]
  },
  {
   "cell_type": "markdown",
   "metadata": {
    "id": "le4EorsBJi_C"
   },
   "source": [
    "Unlike Java, Python is dynamically typed which means at declaration, there is no requirement to specify a data type. Furthermore, we can change a variable name from one type to another without any error. \n",
    "\n",
    "The following cell contains variables of the string types.\n",
    "\n",
    "**Q2:** Concatentate the two strings below with the \"+\" operator and print the cell to confirm that it works\n"
   ]
  },
  {
   "cell_type": "code",
   "execution_count": 3,
   "metadata": {
    "id": "kGj-av0qKZJ3"
   },
   "outputs": [
    {
     "name": "stdout",
     "output_type": "stream",
     "text": [
      "foobar\n"
     ]
    }
   ],
   "source": [
    "s1 = \"foo\"\n",
    "s2 = \"bar\"\n",
    "print(s1+s2)"
   ]
  },
  {
   "cell_type": "markdown",
   "metadata": {
    "id": "xt7aws-YK1gn"
   },
   "source": [
    "This allows the user more flexibity but increased responsibility of maintaining type invariants so that thier program doesn't crash. For example, Python will not accept a string being concatenated with a integer or float.\n",
    "\n",
    "**Q3:** Before running the cell, what do you think the following will print? Will any of these throw an error?"
   ]
  },
  {
   "cell_type": "code",
   "execution_count": 4,
   "metadata": {
    "id": "376aVvrwLV-n"
   },
   "outputs": [
    {
     "name": "stdout",
     "output_type": "stream",
     "text": [
      "Print statement 1: 22\n",
      "Print statement 2:  4\n"
     ]
    },
    {
     "ename": "TypeError",
     "evalue": "unsupported operand type(s) for +: 'int' and 'str'",
     "output_type": "error",
     "traceback": [
      "\u001b[1;31m---------------------------------------------------------------------------\u001b[0m",
      "\u001b[1;31mTypeError\u001b[0m                                 Traceback (most recent call last)",
      "\u001b[1;32m<ipython-input-4-1c587d956c35>\u001b[0m in \u001b[0;36m<module>\u001b[1;34m\u001b[0m\n\u001b[0;32m      1\u001b[0m \u001b[0mprint\u001b[0m\u001b[1;33m(\u001b[0m\u001b[1;34m\"Print statement 1: \"\u001b[0m \u001b[1;33m+\u001b[0m \u001b[1;34m'2'\u001b[0m \u001b[1;33m+\u001b[0m \u001b[1;34m'2'\u001b[0m\u001b[1;33m)\u001b[0m\u001b[1;33m\u001b[0m\u001b[1;33m\u001b[0m\u001b[0m\n\u001b[0;32m      2\u001b[0m \u001b[0mprint\u001b[0m\u001b[1;33m(\u001b[0m\u001b[1;34m\"Print statement 2: \"\u001b[0m \u001b[1;33m,\u001b[0m  \u001b[1;36m2\u001b[0m  \u001b[1;33m+\u001b[0m  \u001b[1;36m2\u001b[0m \u001b[1;33m)\u001b[0m \u001b[1;31m#error\u001b[0m\u001b[1;33m\u001b[0m\u001b[1;33m\u001b[0m\u001b[0m\n\u001b[1;32m----> 3\u001b[1;33m \u001b[0mprint\u001b[0m\u001b[1;33m(\u001b[0m\u001b[1;34m\"Print statement 3: \"\u001b[0m \u001b[1;33m,\u001b[0m \u001b[1;36m2\u001b[0m \u001b[1;33m+\u001b[0m  \u001b[1;34m'2'\u001b[0m \u001b[1;33m)\u001b[0m \u001b[1;31m#error\u001b[0m\u001b[1;33m\u001b[0m\u001b[1;33m\u001b[0m\u001b[0m\n\u001b[0m",
      "\u001b[1;31mTypeError\u001b[0m: unsupported operand type(s) for +: 'int' and 'str'"
     ]
    }
   ],
   "source": [
    "print(\"Print statement 1: \" + '2' + '2')\n",
    "print(\"Print statement 2: \" ,  2  +  2 ) \n",
    "print(\"Print statement 3: \" , 2 +  '2' ) #error"
   ]
  },
  {
   "cell_type": "markdown",
   "metadata": {
    "id": "SAQlBZIjMIgS"
   },
   "source": [
    "Another core data structure is a list. There are many ways to create a list. Below are a couple of the ways of creating a list. Detailed below are two key functions when operating with lists: \n",
    "\n",
    "\"len(someList)\" will return the number of elements in that list.\n",
    "\n",
    "\"someList.append(x)\" will add the value located in the variable x to the end of someList.\n",
    "\n",
    "**Q4:** Create your own list that includes all integers from 7 to 20 (inclusive) using the range function\n"
   ]
  },
  {
   "cell_type": "code",
   "execution_count": 8,
   "metadata": {
    "id": "080D2LzKMl_e"
   },
   "outputs": [
    {
     "name": "stdout",
     "output_type": "stream",
     "text": [
      "Does your list correctly answer the question?  True\n"
     ]
    }
   ],
   "source": [
    "# These all create the same list\n",
    "lst1 = [0,1,2,3,4]    \n",
    "lst2 = list(range(5))\n",
    "lst3 = list(range(0,5))\n",
    "lst3 = list(range(0,5,1))   \n",
    "# range(start, end, incremental) \n",
    "# NOTE: range does not include the end number\n",
    "# Also pass your variable into the list() function to convert to a list\n",
    "\n",
    "### Your code\n",
    "yourList = list(range(7,21,1)) #?? - replace the []\n",
    "###\n",
    "print(\"Does your list correctly answer the question? \", yourList == [7,8,9,10,11,12,13,14,15,16,17,18,19,20])"
   ]
  },
  {
   "cell_type": "markdown",
   "metadata": {
    "id": "ZBaJpu_TS87m"
   },
   "source": [
    "Indexing in Python starts at 0 and is very convenient. You can also index backwards from the end of the list with negative numbers as shown below.\n",
    "\n",
    "**Q5:** Print the product of the 1st element, the fifth element, and the last element from `yourList`.  "
   ]
  },
  {
   "cell_type": "code",
   "execution_count": 10,
   "metadata": {
    "id": "TjtLO6duUPJH"
   },
   "outputs": [
    {
     "name": "stdout",
     "output_type": "stream",
     "text": [
      "7\n",
      "8\n",
      "20\n",
      "19\n",
      "11\n",
      "1540\n"
     ]
    }
   ],
   "source": [
    "print(yourList[0]) # Accessing the first element\n",
    "print(yourList[1]) # Accessing the second element\n",
    "print(yourList[-1]) # Accessing the last element\n",
    "print(yourList[-2]) # Accessing the second to last element\n",
    "print(yourList[4])\n",
    "\n",
    "### your code\n",
    "print(yourList[0]*yourList[4]*yourList[-1])\n",
    "###"
   ]
  },
  {
   "cell_type": "markdown",
   "metadata": {
    "id": "vWeS97uRMk5X"
   },
   "source": [
    "We can easily iterate through lists and manipulate their contents. \n",
    "We can also segment code into functions that are easy to reuse.\n",
    "\n",
    "Below we define a function `factNumber` that takes in a positive number $n$ and returns its factorial $n!$. For example, 1! = 1 and 3! = 6.\n",
    "\n",
    "**Q6:** Below is a for loop that will iterate over `yourList`. Can you find the sum of the factorials of the numbers in `yourList`?"
   ]
  },
  {
   "cell_type": "code",
   "execution_count": 11,
   "metadata": {
    "id": "jNyiv-SbQabR"
   },
   "outputs": [
    {
     "name": "stdout",
     "output_type": "stream",
     "text": [
      "2561327494111819440\n"
     ]
    }
   ],
   "source": [
    "def factNumber(x):\n",
    "  factorialList = [1,1]\n",
    "  i = 2\n",
    "  while(len(factorialList) - 1< x):\n",
    "    factorialList.append(factorialList[-1]*i)\n",
    "    i = i+1\n",
    "  return factorialList[-1]\n",
    "\n",
    "aggregateSum = 0\n",
    "for x in yourList:\n",
    "  ### Your code\n",
    "  # Remember to call the function factNumber(someValue)\n",
    "    aggregateSum += factNumber(x)\n",
    "  ###\n",
    "\n",
    "# This should print 2561327494111819440\n",
    "print(aggregateSum)"
   ]
  },
  {
   "cell_type": "markdown",
   "metadata": {
    "id": "BQU8xsreTXYM"
   },
   "source": [
    "**Q7:** Now define your own function using the code above that takes in a list containing positive entries and returns the sum of their factorials."
   ]
  },
  {
   "cell_type": "code",
   "execution_count": 12,
   "metadata": {
    "id": "Jc1Hcd9GTkAk"
   },
   "outputs": [
    {
     "name": "stdout",
     "output_type": "stream",
     "text": [
      "2561327494111819440\n"
     ]
    }
   ],
   "source": [
    "### your code\n",
    "def yourFunc(someList):\n",
    "  ### Input should be array, dataset of random numbers\n",
    "    someVal = 0\n",
    "    for x in yourList:\n",
    "        someVal += factNumber(x)\n",
    "    \n",
    "    return someVal # Make sure to change someVal\n",
    "###\n",
    "\n",
    "# Calling it should print the same as above\n",
    "print(yourFunc(yourList))"
   ]
  },
  {
   "cell_type": "markdown",
   "metadata": {
    "id": "N3tcUqVKZOPp"
   },
   "source": [
    "# Data Analysis\n",
    "\n",
    "Now suppose we are consulting with Cayuga Medical Center, a local hospital. They would like us to help them better understand the length of stay for diabetic patients. This information will allow them to plan beds availabilities more efficiently. "
   ]
  },
  {
   "cell_type": "markdown",
   "metadata": {
    "id": "R8j7LOMcLSc0"
   },
   "source": [
    "Import the dataset `diabetic_data.csv` using `pandas`.\n",
    "Look at the data. \n",
    "\n",
    "**Q8:** What type is the data in each column?"
   ]
  },
  {
   "cell_type": "code",
   "execution_count": 14,
   "metadata": {
    "id": "7p1EJBf6TGwC"
   },
   "outputs": [
    {
     "data": {
      "text/plain": [
       "encounter_id                 int64\n",
       "patient_nbr                  int64\n",
       "race                        object\n",
       "gender                      object\n",
       "age                         object\n",
       "weight                      object\n",
       "admission_type_id            int64\n",
       "discharge_disposition_id     int64\n",
       "admission_source_id          int64\n",
       "time_in_hospital             int64\n",
       "payer_code                  object\n",
       "medical_specialty           object\n",
       "num_lab_procedures           int64\n",
       "num_procedures               int64\n",
       "num_medications              int64\n",
       "number_outpatient            int64\n",
       "number_emergency             int64\n",
       "number_inpatient             int64\n",
       "diag_1                      object\n",
       "diag_2                      object\n",
       "diag_3                      object\n",
       "number_diagnoses             int64\n",
       "max_glu_serum               object\n",
       "A1Cresult                   object\n",
       "metformin                   object\n",
       "repaglinide                 object\n",
       "nateglinide                 object\n",
       "chlorpropamide              object\n",
       "glimepiride                 object\n",
       "acetohexamide               object\n",
       "glipizide                   object\n",
       "glyburide                   object\n",
       "tolbutamide                 object\n",
       "pioglitazone                object\n",
       "rosiglitazone               object\n",
       "acarbose                    object\n",
       "miglitol                    object\n",
       "troglitazone                object\n",
       "tolazamide                  object\n",
       "examide                     object\n",
       "citoglipton                 object\n",
       "insulin                     object\n",
       "glyburide-metformin         object\n",
       "glipizide-metformin         object\n",
       "glimepiride-pioglitazone    object\n",
       "metformin-rosiglitazone     object\n",
       "metformin-pioglitazone      object\n",
       "change                      object\n",
       "diabetesMed                 object\n",
       "readmitted                  object\n",
       "dtype: object"
      ]
     },
     "execution_count": 14,
     "metadata": {},
     "output_type": "execute_result"
    }
   ],
   "source": [
    "# your code to import data here. \n",
    "df = pd.read_csv('diabetic_data.csv')\n",
    "# Hint: use the pd.read_csv function from lecture\n",
    "# check data types. Hint: use dtypes\n",
    "df.dtypes"
   ]
  },
  {
   "cell_type": "markdown",
   "metadata": {
    "id": "QCM0b23GLvbX"
   },
   "source": [
    "Each day 20 patients arrive at our hospital. We'll call that group of 20 patients a **cohort**. We are interested in the duration of hospital stays for cohorts so that we can ensure we have enough beds. The field time_in_hospital contains the length of each patient's hospital stay expressed as a number of days.\n",
    "\n",
    "**Q9:** Take a random sample of 20 entries from the time_in_hospital field from your dataframe, without replacement. Try running this command 3 times to see that the cohort is different every time. \n",
    "\n",
    "Hint: Pandas series have a sample method that randomly selects a desired number of entries without replacement: https://pandas.pydata.org/pandas-docs/stable/reference/api/pandas.DataFrame.sample.html"
   ]
  },
  {
   "cell_type": "code",
   "execution_count": 31,
   "metadata": {
    "id": "_0WCm8DnTXMT"
   },
   "outputs": [
    {
     "data": {
      "text/plain": [
       "3967      5\n",
       "40634     4\n",
       "31008     6\n",
       "35        2\n",
       "83421     6\n",
       "97636     3\n",
       "84554     4\n",
       "80619     2\n",
       "72048     2\n",
       "35286     2\n",
       "83741    11\n",
       "55371     2\n",
       "77608    11\n",
       "21161     7\n",
       "38185     2\n",
       "49686     8\n",
       "83442     4\n",
       "97744     4\n",
       "5164      2\n",
       "22350     5\n",
       "Name: time_in_hospital, dtype: int64"
      ]
     },
     "execution_count": 31,
     "metadata": {},
     "output_type": "execute_result"
    }
   ],
   "source": [
    "# select 20 random entries from the time_in_hospital field in your dataframe\n",
    "random = df.sample(20)\n",
    "# your code here\n",
    "random['time_in_hospital']"
   ]
  },
  {
   "cell_type": "markdown",
   "metadata": {
    "id": "6Df5yhilb27g"
   },
   "source": [
    "**Q10:** Write a function to compute the total time a list of patients will spend in the hospital. The input should be a Pandas series specifying time spent in hospital for a collection of patients, and the output should be the sum of the time spent in the hospital by those patients.\n",
    "\n",
    "Hint: Pandas series have a sum() method. If you use this, your function can be very short. The sum() method is explained here: https://pandas.pydata.org/pandas-docs/stable/reference/api/pandas.DataFrame.sum.html\n",
    "\n"
   ]
  },
  {
   "cell_type": "code",
   "execution_count": 36,
   "metadata": {
    "id": "VjvUI-pWb8nv"
   },
   "outputs": [],
   "source": [
    "#your code here\n",
    "def totalTimeInHospital(timeSeries):\n",
    "    return(sum(timeSeries))"
   ]
  },
  {
   "cell_type": "markdown",
   "metadata": {
    "id": "ePsjeo5yZZyA"
   },
   "source": [
    "**Q11:** Apply your function to three randomly chosen lists of 20 patients to see that the total time is different on each cohort."
   ]
  },
  {
   "cell_type": "code",
   "execution_count": 37,
   "metadata": {
    "id": "prhbqgWTdCrF"
   },
   "outputs": [
    {
     "name": "stdout",
     "output_type": "stream",
     "text": [
      "102\n",
      "89\n",
      "78\n"
     ]
    }
   ],
   "source": [
    "#your code here\n",
    "print(totalTimeInHospital(df.sample(20)['time_in_hospital']))\n",
    "print(totalTimeInHospital(df.sample(20)['time_in_hospital']))\n",
    "print(totalTimeInHospital(df.sample(20)['time_in_hospital']))"
   ]
  },
  {
   "cell_type": "markdown",
   "metadata": {
    "id": "RIgAXI-sMOYb"
   },
   "source": [
    "**Q12:** Compute the duration of 100 random samples and collect these in the list `durations`. Plot the resulting distribution with `plt.hist()`. \n",
    "\n",
    "Hint: you can add entries to a list using append method, as in the example code earlier in this recitation. Alternatively, it is a little bit faster to create a list with room for 100 entries that is initially filled with 0's with the command\n",
    "\n",
    "```\n",
    "durations = [0]*100\n",
    "```"
   ]
  },
  {
   "cell_type": "code",
   "execution_count": 45,
   "metadata": {},
   "outputs": [
    {
     "data": {
      "text/plain": [
       "(array([ 5.,  5., 20., 19., 16., 19.,  7.,  7.,  0.,  2.]),\n",
       " array([ 56. ,  63.4,  70.8,  78.2,  85.6,  93. , 100.4, 107.8, 115.2,\n",
       "        122.6, 130. ]),\n",
       " <a list of 10 Patch objects>)"
      ]
     },
     "execution_count": 45,
     "metadata": {},
     "output_type": "execute_result"
    },
    {
     "data": {
      "image/png": "[encoded data removed]",
      "text/plain": [
       "<Figure size 432x288 with 1 Axes>"
      ]
     },
     "metadata": {
      "needs_background": "light"
     },
     "output_type": "display_data"
    }
   ],
   "source": [
    "durations = [0] * 100\n",
    "for i in range(0,100):\n",
    "    durations[i] = totalTimeInHospital(df.sample(20)['time_in_hospital'])\n",
    "plt.hist(durations)"
   ]
  },
  {
   "cell_type": "markdown",
   "metadata": {
    "id": "5iqyIwhMAGir"
   },
   "source": [
    "**Q13:** What is the mean duration among these samples? What is the standard deviation of these samples?\n",
    "\n",
    "Hint: you can compute the mean of a list using np.mean() and the standard deviation using np.std(), as described in https://numpy.org/doc/stable/reference/generated/numpy.mean.html and https://numpy.org/doc/stable/reference/generated/numpy.std.html\n"
   ]
  },
  {
   "cell_type": "code",
   "execution_count": 46,
   "metadata": {
    "id": "DMeMKOJvAkHt"
   },
   "outputs": [
    {
     "name": "stdout",
     "output_type": "stream",
     "text": [
      "87.12\n",
      "13.975893531363209\n"
     ]
    }
   ],
   "source": [
    "#your code here\n",
    "print(np.mean(durations))\n",
    "print(np.std(durations))"
   ]
  },
  {
   "cell_type": "markdown",
   "metadata": {
    "id": "l-DWaTKVMg6t"
   },
   "source": [
    "**Q14:** \n",
    "\n",
    "a) What is the expected duration of stay for one patient drawn at random from our original dataset with ? Hint: pandas Series' have a mean() method that may be useful here.\n",
    "\n",
    "b) We can multiply our value in part (a) by 20 to get the expected duration of stay for a cohort of 20 people. We will call this the **true mean duration** of stay for a cohort. Calculate the true mean for a cohort. \n",
    "\n",
    "c) You should see that the middle of the histogram of `durations` you plotted and described in the previous two questions is close to the value that you computed in part (b). Why do you think this is?"
   ]
  },
  {
   "cell_type": "code",
   "execution_count": 56,
   "metadata": {
    "id": "we4idMIte2jB"
   },
   "outputs": [
    {
     "name": "stdout",
     "output_type": "stream",
     "text": [
      "a) Mean duration of one patient drawn at random 4.395986871843248\n",
      "b) True mean duration of one cohort drawn at random 87.91973743686496\n",
      "c) The true mean duration should be very close to the mean calculated using the random samples as the values are being taken from the same data set\n"
     ]
    }
   ],
   "source": [
    "# your code and explanation here\n",
    "mean = df['time_in_hospital'].mean()\n",
    "print(\"a) Mean duration of one patient drawn at random\", mean)\n",
    "print(\"b) True mean duration of one cohort drawn at random\", mean*20)\n",
    "print(\"c) The true mean duration should be very close to the mean calculated using the random samples as the values are being taken from the same data set\")\n",
    "      "
   ]
  },
  {
   "cell_type": "markdown",
   "metadata": {
    "id": "dB1Jt0T7At9l"
   },
   "source": [
    "We can compute a confidence interval for the true mean duration based on the entries in `duration`. We do this by thinking of the entries in `duration` as independent and identically distributed samples from a probability distribution whose mean is the true mean duration. To calculate a 95\\% confidence interval, we take the mean of the entries in the `duration` (called the \"empirical mean\") and add / subtract 1.96 times their standard deviation divided by the square root of the number of entries in `duration`.\n",
    "\n",
    "Hint: to take square roots, use np.sqrt()\n",
    "\n",
    "**Q15:** Compute this confidence interval. Was the true mean in the confidence interval?"
   ]
  },
  {
   "cell_type": "code",
   "execution_count": 62,
   "metadata": {
    "id": "8kuX_0Vhkqt4"
   },
   "outputs": [
    {
     "name": "stdout",
     "output_type": "stream",
     "text": [
      "( 84.38072486785282 , 89.85927513214719 )\n",
      "Yes, the true mean is included in the confidence interval\n"
     ]
    }
   ],
   "source": [
    "# your code and explanation here\n",
    "print(\"(\",np.mean(durations) - (1.96*np.std(durations)) / np.sqrt(len(durations)), \",\", \n",
    "      np.mean(durations) + (1.96*np.std(durations)) / np.sqrt(len(durations)), \")\")\n",
    "print(\"Yes, the true mean is included in the confidence interval\")"
   ]
  },
  {
   "cell_type": "markdown",
   "metadata": {
    "id": "dYtL16c1OdcC"
   },
   "source": [
    "**Q16:** Create a list of `durations`, but now drawing 1000 random cohorts instead of 100. How does the empirical mean of the entries in this new bigger list compare to the true mean duration now?"
   ]
  },
  {
   "cell_type": "code",
   "execution_count": 66,
   "metadata": {
    "id": "iwDhIwSpekjW"
   },
   "outputs": [
    {
     "name": "stdout",
     "output_type": "stream",
     "text": [
      "87.689\n",
      "The empirical mean of the entries in this new bigger list is closer to the true mean duration by about 50%\n"
     ]
    },
    {
     "data": {
      "text/plain": [
       "(array([ 15.,  69., 166., 238., 192., 173.,  93.,  41.,   9.,   4.]),\n",
       " array([ 55. ,  62.8,  70.6,  78.4,  86.2,  94. , 101.8, 109.6, 117.4,\n",
       "        125.2, 133. ]),\n",
       " <a list of 10 Patch objects>)"
      ]
     },
     "execution_count": 66,
     "metadata": {},
     "output_type": "execute_result"
    },
    {
     "data": {
      "image/png": "[encoded data removed]",
      "text/plain": [
       "<Figure size 432x288 with 1 Axes>"
      ]
     },
     "metadata": {
      "needs_background": "light"
     },
     "output_type": "display_data"
    }
   ],
   "source": [
    "# 1000 samples\n",
    "durations = [0] * 1000\n",
    "# your code here\n",
    "for i in range(0,1000):\n",
    "    durations[i] = totalTimeInHospital(df.sample(20)['time_in_hospital'])\n",
    "print(np.mean(np.mean(durations)))\n",
    "print(\"The empirical mean of the entries in this new bigger list is closer to the true mean duration by about 50%\")\n",
    "plt.hist(durations)"
   ]
  },
  {
   "cell_type": "markdown",
   "metadata": {
    "id": "J112Zul3QCzK"
   },
   "source": [
    "**Q17:** What is the shape of this histogram? Why is the shape different than the histogram of 100 durations above? How do you expect this to look if you sampled 10000 durations, or 100000? (Hint: recall the central limit theorem.)"
   ]
  },
  {
   "cell_type": "markdown",
   "metadata": {
    "id": "TEY7n_nIDI19"
   },
   "source": [
    "Your explanation here"
   ]
  },
  {
   "cell_type": "markdown",
   "metadata": {
    "id": "UM3Tge8lcq29"
   },
   "source": [
    "The shape of the histogram is more of a proper normal distribution than the histogram of 100 durations. I would expect the distribution to look even more 'normal' if I increased the size of the sample"
   ]
  }
 ],
 "metadata": {
  "colab": {
   "collapsed_sections": [],
   "name": "ORIE3120_Recitation5.ipynb",
   "provenance": [],
   "toc_visible": true
  },
  "kernelspec": {
   "display_name": "Python 3",
   "language": "python",
   "name": "python3"
  },
  "language_info": {
   "codemirror_mode": {
    "name": "ipython",
    "version": 3
   },
   "file_extension": ".py",
   "mimetype": "text/x-python",
   "name": "python",
   "nbconvert_exporter": "python",
   "pygments_lexer": "ipython3",
   "version": "3.7.3"
  }
 },
 "nbformat": 4,
 "nbformat_minor": 1
}
