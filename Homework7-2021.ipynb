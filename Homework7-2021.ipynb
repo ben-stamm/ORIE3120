{
 "cells": [
  {
   "cell_type": "markdown",
   "metadata": {
    "colab_type": "text",
    "id": "vh1RaeAXoje4"
   },
   "source": [
    "# **Homework 7**\n",
    "\n",
    "Due Monday April 12, 2021 at 11:59pm\n",
    "Submit an ipynb file to gradescope.\n",
    "Remember to also submit Recitation 8."
   ]
  },
  {
   "cell_type": "markdown",
   "metadata": {
    "colab_type": "text",
    "id": "KVFcBbWnskHG"
   },
   "source": [
    "Load packages we will use.\n",
    "\n"
   ]
  },
  {
   "cell_type": "code",
   "execution_count": 1,
   "metadata": {
    "colab": {},
    "colab_type": "code",
    "id": "9vXs8qqxsT-X"
   },
   "outputs": [],
   "source": [
    "#math\n",
    "import numpy as np\n",
    "import random\n",
    "\n",
    "#dataframes\n",
    "import pandas as pd\n",
    "\n",
    "#ploting\n",
    "import matplotlib.pyplot as plt\n",
    "\n",
    "#regression tools\n",
    "import statsmodels.api as sm\n",
    "from patsy import dmatrices"
   ]
  },
  {
   "cell_type": "markdown",
   "metadata": {},
   "source": [
    "# Problem 1: Confidence intervals"
   ]
  },
  {
   "cell_type": "code",
   "execution_count": 2,
   "metadata": {},
   "outputs": [
    {
     "name": "stdout",
     "output_type": "stream",
     "text": [
      "                            OLS Regression Results                            \n",
      "==============================================================================\n",
      "Dep. Variable:                      y   R-squared:                       0.020\n",
      "Model:                            OLS   Adj. R-squared:                 -0.034\n",
      "Method:                 Least Squares   F-statistic:                    0.3725\n",
      "Date:                Mon, 12 Apr 2021   Prob (F-statistic):              0.549\n",
      "Time:                        20:13:02   Log-Likelihood:                -31.195\n",
      "No. Observations:                  20   AIC:                             66.39\n",
      "Df Residuals:                      18   BIC:                             68.38\n",
      "Df Model:                           1                                         \n",
      "Covariance Type:            nonrobust                                         \n",
      "==============================================================================\n",
      "                 coef    std err          t      P>|t|      [0.025      0.975]\n",
      "------------------------------------------------------------------------------\n",
      "const          0.1381      0.280      0.493      0.628      -0.451       0.727\n",
      "x             -0.1414      0.232     -0.610      0.549      -0.628       0.345\n",
      "==============================================================================\n",
      "Omnibus:                        5.015   Durbin-Watson:                   1.389\n",
      "Prob(Omnibus):                  0.081   Jarque-Bera (JB):                3.153\n",
      "Skew:                          -0.951   Prob(JB):                        0.207\n",
      "Kurtosis:                       3.410   Cond. No.                         1.38\n",
      "==============================================================================\n",
      "\n",
      "Warnings:\n",
      "[1] Standard Errors assume that the covariance matrix of the errors is correctly specified.\n",
      "confidence interval for beta_1 is (-0.628060376375546, 0.34528454869223246)\n"
     ]
    },
    {
     "name": "stderr",
     "output_type": "stream",
     "text": [
      "C:\\Users\\bls24\\Anaconda3\\lib\\site-packages\\numpy\\core\\fromnumeric.py:2389: FutureWarning: Method .ptp is deprecated and will be removed in a future version. Use numpy.ptp instead.\n",
      "  return ptp(axis=axis, out=out, **kwargs)\n"
     ]
    }
   ],
   "source": [
    "# This function creates some data, fits a linear regression model Y=beta0 + beta1*X,\n",
    "# and then prints out the model summary and the lower and upper bounds of a 95% confidence\n",
    "# interval on beta_1.\n",
    "df = pd.DataFrame()\n",
    "n = 20\n",
    "p = 2\n",
    "df['x'] = np.random.randn(n)\n",
    "y = np.random.randn(n)\n",
    "df = sm.add_constant(df)\n",
    "model = sm.OLS(y,df).fit()\n",
    "print(model.summary())\n",
    "conf_int = model.conf_int().loc['x']\n",
    "lower = conf_int[0]\n",
    "upper = conf_int[1]\n",
    "print(f'confidence interval for beta_1 is {lower,upper}')"
   ]
  },
  {
   "cell_type": "markdown",
   "metadata": {},
   "source": [
    "### 1A.\n",
    "What are the values of `beta_0` and `beta_1` used to generate the data in the cell above?\n",
    "Suppose the 95% confidence interval returned for beta_1 is [-0.36, 0.48], does this contain `beta_1`?"
   ]
  },
  {
   "cell_type": "markdown",
   "metadata": {},
   "source": [
    "Answer:\n",
    "* beta_0 coefficient: -.3771\n",
    "* beta_1 coefficient: -.1489\n",
    "* YES, the 95% confidence interval specified above does contain beta_1"
   ]
  },
  {
   "cell_type": "code",
   "execution_count": 3,
   "metadata": {},
   "outputs": [
    {
     "data": {
      "text/plain": [
       "{'lower': -1.026528290329942,\n",
       " 'upper': 0.3475162608887538,\n",
       " 'beta1': -0.3395060147205941}"
      ]
     },
     "execution_count": 3,
     "metadata": {},
     "output_type": "execute_result"
    }
   ],
   "source": [
    "# This function takes the same functionality and the previous cell,\n",
    "# but wraps it in a function and returns the result as a dictionary\n",
    "def example_data():\n",
    "    df = pd.DataFrame()\n",
    "    n = 20\n",
    "    p = 2\n",
    "    df['x'] = np.random.randn(n)\n",
    "    y = np.random.randn(n)\n",
    "    df = sm.add_constant(df)\n",
    "    model = sm.OLS(y,df).fit()\n",
    "    conf_int = model.conf_int().loc['x']\n",
    "    coef = model.params.loc['x']\n",
    "    lower = conf_int[0]\n",
    "    upper = conf_int[1]\n",
    "    #beta_1 = coef[1]\n",
    "    return {'lower' : lower, 'upper' : upper, 'beta1':coef}#, 'model_check':model.params}\n",
    "\n",
    "example_data()"
   ]
  },
  {
   "cell_type": "code",
   "execution_count": 4,
   "metadata": {},
   "outputs": [
    {
     "data": {
      "text/html": [
       "<div>\n",
       "<style scoped>\n",
       "    .dataframe tbody tr th:only-of-type {\n",
       "        vertical-align: middle;\n",
       "    }\n",
       "\n",
       "    .dataframe tbody tr th {\n",
       "        vertical-align: top;\n",
       "    }\n",
       "\n",
       "    .dataframe thead th {\n",
       "        text-align: right;\n",
       "    }\n",
       "</style>\n",
       "<table border=\"1\" class=\"dataframe\">\n",
       "  <thead>\n",
       "    <tr style=\"text-align: right;\">\n",
       "      <th></th>\n",
       "      <th>lower</th>\n",
       "      <th>upper</th>\n",
       "      <th>beta1</th>\n",
       "    </tr>\n",
       "  </thead>\n",
       "  <tbody>\n",
       "    <tr>\n",
       "      <th>0</th>\n",
       "      <td>-0.065237</td>\n",
       "      <td>0.731387</td>\n",
       "      <td>0.333075</td>\n",
       "    </tr>\n",
       "    <tr>\n",
       "      <th>1</th>\n",
       "      <td>-0.367412</td>\n",
       "      <td>1.157405</td>\n",
       "      <td>0.394997</td>\n",
       "    </tr>\n",
       "    <tr>\n",
       "      <th>2</th>\n",
       "      <td>-0.235562</td>\n",
       "      <td>0.685014</td>\n",
       "      <td>0.224726</td>\n",
       "    </tr>\n",
       "    <tr>\n",
       "      <th>3</th>\n",
       "      <td>-0.318996</td>\n",
       "      <td>0.551429</td>\n",
       "      <td>0.116216</td>\n",
       "    </tr>\n",
       "    <tr>\n",
       "      <th>4</th>\n",
       "      <td>-0.808923</td>\n",
       "      <td>0.282077</td>\n",
       "      <td>-0.263423</td>\n",
       "    </tr>\n",
       "  </tbody>\n",
       "</table>\n",
       "</div>"
      ],
      "text/plain": [
       "      lower     upper     beta1\n",
       "0 -0.065237  0.731387  0.333075\n",
       "1 -0.367412  1.157405  0.394997\n",
       "2 -0.235562  0.685014  0.224726\n",
       "3 -0.318996  0.551429  0.116216\n",
       "4 -0.808923  0.282077 -0.263423"
      ]
     },
     "execution_count": 4,
     "metadata": {},
     "output_type": "execute_result"
    }
   ],
   "source": [
    "# This runs the example_data function many times to generate many independent datasets,\n",
    "# all using the same values for beta_0 and beta_1. From each dataset, we generate a 95% confidence\n",
    "# interval for beta_1 and put it into the dataframe conf_int\n",
    "conf_int = pd.DataFrame(columns=['lower','upper'])\n",
    "for i in range(100):\n",
    "    conf_int = conf_int.append(example_data(),ignore_index=True)\n",
    "conf_int.head()"
   ]
  },
  {
   "cell_type": "markdown",
   "metadata": {},
   "source": [
    "### 1B\n",
    "\n",
    "What is the theoretical probability that beta_1 should be contained between the lower and upper bound returned by example_data()? (Though we discussed this in ORIE 3120, you can also answer this based on what you learned about confidence intervals in ENGRD 2700.)\n",
    "\n",
    "Write code to calculate how often it happens in the data that you generated. In what fraction of the records in conf_int does it happen?"
   ]
  },
  {
   "cell_type": "markdown",
   "metadata": {},
   "source": [
    "Answer: 95%"
   ]
  },
  {
   "cell_type": "code",
   "execution_count": 5,
   "metadata": {},
   "outputs": [],
   "source": [
    "lower = list(conf_int[\"lower\"])\n",
    "upper = list(conf_int[\"upper\"])\n",
    "beta1 = list(conf_int[\"beta1\"])"
   ]
  },
  {
   "cell_type": "code",
   "execution_count": 6,
   "metadata": {},
   "outputs": [
    {
     "name": "stdout",
     "output_type": "stream",
     "text": [
      "1.0\n"
     ]
    }
   ],
   "source": [
    "count = 0\n",
    "for i in range(len(lower)):\n",
    "    if beta1[i] >= lower[i] and beta1[i] <= upper[i]:\n",
    "        count+=1\n",
    "print(count*1.0/100)"
   ]
  },
  {
   "cell_type": "markdown",
   "metadata": {},
   "source": [
    "Strangely, when I calculate the fraction of the records in conf_int that beta1 is contained between the lower and upper bound, I get an answer of 100% of the time, which differs from the expected result of 95%."
   ]
  },
  {
   "cell_type": "markdown",
   "metadata": {},
   "source": [
    "# Problem 2\n",
    "\n",
    "We have data from an online food delivery service in `PurchaseVsPrice.csv`. This data contains data from an experiment in which the price of a meal was varied between \\\\$0 and \\\\$20 to customers that had the company's mobile app installed on their phone.  For each price offered, we see whether or not the meal was purchased, where Y=1 means a purchase was made and Y=0 means it was not."
   ]
  },
  {
   "cell_type": "markdown",
   "metadata": {},
   "source": [
    "### 2A. \n",
    "Load the data into a dataframe and fit a logistic regression model of the form P(Y=1|X) = L(beta_0+beta_1*X). Here, Y=1 indicates purchase, Y=0 indicates no purchase, and X is the price. What are the fitted values of beta_0 and beta_1?  Are these parameter statistically significant at the 95\\% level?"
   ]
  },
  {
   "cell_type": "code",
   "execution_count": 7,
   "metadata": {},
   "outputs": [
    {
     "data": {
      "text/html": [
       "<div>\n",
       "<style scoped>\n",
       "    .dataframe tbody tr th:only-of-type {\n",
       "        vertical-align: middle;\n",
       "    }\n",
       "\n",
       "    .dataframe tbody tr th {\n",
       "        vertical-align: top;\n",
       "    }\n",
       "\n",
       "    .dataframe thead th {\n",
       "        text-align: right;\n",
       "    }\n",
       "</style>\n",
       "<table border=\"1\" class=\"dataframe\">\n",
       "  <thead>\n",
       "    <tr style=\"text-align: right;\">\n",
       "      <th></th>\n",
       "      <th>price</th>\n",
       "      <th>purchase</th>\n",
       "    </tr>\n",
       "  </thead>\n",
       "  <tbody>\n",
       "    <tr>\n",
       "      <th>0</th>\n",
       "      <td>0.669310</td>\n",
       "      <td>1</td>\n",
       "    </tr>\n",
       "    <tr>\n",
       "      <th>1</th>\n",
       "      <td>5.268658</td>\n",
       "      <td>1</td>\n",
       "    </tr>\n",
       "    <tr>\n",
       "      <th>2</th>\n",
       "      <td>17.370370</td>\n",
       "      <td>0</td>\n",
       "    </tr>\n",
       "    <tr>\n",
       "      <th>3</th>\n",
       "      <td>7.076877</td>\n",
       "      <td>1</td>\n",
       "    </tr>\n",
       "    <tr>\n",
       "      <th>4</th>\n",
       "      <td>3.341077</td>\n",
       "      <td>1</td>\n",
       "    </tr>\n",
       "  </tbody>\n",
       "</table>\n",
       "</div>"
      ],
      "text/plain": [
       "       price  purchase\n",
       "0   0.669310         1\n",
       "1   5.268658         1\n",
       "2  17.370370         0\n",
       "3   7.076877         1\n",
       "4   3.341077         1"
      ]
     },
     "execution_count": 7,
     "metadata": {},
     "output_type": "execute_result"
    }
   ],
   "source": [
    "df = pd.read_csv('PurchaseVsPrice.csv') #QUESTION -- what does the Y=1 mean here? Am I building this model correctly?\n",
    "df.head()"
   ]
  },
  {
   "cell_type": "code",
   "execution_count": 8,
   "metadata": {},
   "outputs": [
    {
     "name": "stdout",
     "output_type": "stream",
     "text": [
      "Optimization terminated successfully.\n",
      "         Current function value: 0.387791\n",
      "         Iterations 7\n"
     ]
    }
   ],
   "source": [
    "X = df[\"price\"]\n",
    "Y = df[\"purchase\"]\n",
    "X = sm.add_constant(X)\n",
    "model = sm.Logit(Y,X).fit()"
   ]
  },
  {
   "cell_type": "code",
   "execution_count": 9,
   "metadata": {
    "scrolled": true
   },
   "outputs": [
    {
     "data": {
      "text/html": [
       "<table class=\"simpletable\">\n",
       "<caption>Logit Regression Results</caption>\n",
       "<tr>\n",
       "  <th>Dep. Variable:</th>       <td>purchase</td>     <th>  No. Observations:  </th>  <td>100000</td> \n",
       "</tr>\n",
       "<tr>\n",
       "  <th>Model:</th>                 <td>Logit</td>      <th>  Df Residuals:      </th>  <td> 99998</td> \n",
       "</tr>\n",
       "<tr>\n",
       "  <th>Method:</th>                 <td>MLE</td>       <th>  Df Model:          </th>  <td>     1</td> \n",
       "</tr>\n",
       "<tr>\n",
       "  <th>Date:</th>            <td>Mon, 12 Apr 2021</td> <th>  Pseudo R-squ.:     </th>  <td>0.4229</td> \n",
       "</tr>\n",
       "<tr>\n",
       "  <th>Time:</th>                <td>20:13:04</td>     <th>  Log-Likelihood:    </th> <td> -38779.</td>\n",
       "</tr>\n",
       "<tr>\n",
       "  <th>converged:</th>             <td>True</td>       <th>  LL-Null:           </th> <td> -67200.</td>\n",
       "</tr>\n",
       "<tr>\n",
       "  <th>Covariance Type:</th>     <td>nonrobust</td>    <th>  LLR p-value:       </th>  <td> 0.000</td> \n",
       "</tr>\n",
       "</table>\n",
       "<table class=\"simpletable\">\n",
       "<tr>\n",
       "    <td></td>       <th>coef</th>     <th>std err</th>      <th>z</th>      <th>P>|z|</th>  <th>[0.025</th>    <th>0.975]</th>  \n",
       "</tr>\n",
       "<tr>\n",
       "  <th>const</th> <td>    3.0262</td> <td>    0.021</td> <td>  144.250</td> <td> 0.000</td> <td>    2.985</td> <td>    3.067</td>\n",
       "</tr>\n",
       "<tr>\n",
       "  <th>price</th> <td>   -0.3861</td> <td>    0.002</td> <td> -167.361</td> <td> 0.000</td> <td>   -0.391</td> <td>   -0.382</td>\n",
       "</tr>\n",
       "</table>"
      ],
      "text/plain": [
       "<class 'statsmodels.iolib.summary.Summary'>\n",
       "\"\"\"\n",
       "                           Logit Regression Results                           \n",
       "==============================================================================\n",
       "Dep. Variable:               purchase   No. Observations:               100000\n",
       "Model:                          Logit   Df Residuals:                    99998\n",
       "Method:                           MLE   Df Model:                            1\n",
       "Date:                Mon, 12 Apr 2021   Pseudo R-squ.:                  0.4229\n",
       "Time:                        20:13:04   Log-Likelihood:                -38779.\n",
       "converged:                       True   LL-Null:                       -67200.\n",
       "Covariance Type:            nonrobust   LLR p-value:                     0.000\n",
       "==============================================================================\n",
       "                 coef    std err          z      P>|z|      [0.025      0.975]\n",
       "------------------------------------------------------------------------------\n",
       "const          3.0262      0.021    144.250      0.000       2.985       3.067\n",
       "price         -0.3861      0.002   -167.361      0.000      -0.391      -0.382\n",
       "==============================================================================\n",
       "\"\"\""
      ]
     },
     "execution_count": 9,
     "metadata": {},
     "output_type": "execute_result"
    }
   ],
   "source": [
    "model.summary()"
   ]
  },
  {
   "cell_type": "markdown",
   "metadata": {},
   "source": [
    "beta_0 is 3.03 and beta_1 is -.386. Both of these parameters are statistically significant at the 95% level."
   ]
  },
  {
   "cell_type": "markdown",
   "metadata": {},
   "source": [
    "### 2B.\n",
    "Using a pandas groupby and the round function, create a dataframe that consists of:\n",
    "* the price rounded to the nearest 0.1 dollar\n",
    "* the fraction of time that the consumer purchased the meal for each rounded price\n",
    "We call this second bullet point the \"empirical probability of purchase\".\n",
    "\n",
    "Then plot the empirical probability of purchase vs. the rounded price as a collection of dots.\n",
    "\n",
    "Also, use your fitted logistic regression model to predict what the probability of purchase should be at each rounded price and plot this as a line.  \n",
    "\n",
    "You should see that both the empirical probability of purchase and your prediction decrease with the price, but that your prediction has a different shape.  In particular, your prediction should be larger than the empirical probability of a purchase at low prices."
   ]
  },
  {
   "cell_type": "code",
   "execution_count": 10,
   "metadata": {
    "scrolled": true
   },
   "outputs": [
    {
     "data": {
      "text/html": [
       "<div>\n",
       "<style scoped>\n",
       "    .dataframe tbody tr th:only-of-type {\n",
       "        vertical-align: middle;\n",
       "    }\n",
       "\n",
       "    .dataframe tbody tr th {\n",
       "        vertical-align: top;\n",
       "    }\n",
       "\n",
       "    .dataframe thead tr th {\n",
       "        text-align: left;\n",
       "    }\n",
       "</style>\n",
       "<table border=\"1\" class=\"dataframe\">\n",
       "  <thead>\n",
       "    <tr>\n",
       "      <th></th>\n",
       "      <th>price</th>\n",
       "      <th>empirical probability of purchase</th>\n",
       "    </tr>\n",
       "    <tr>\n",
       "      <th></th>\n",
       "      <th></th>\n",
       "      <th></th>\n",
       "    </tr>\n",
       "  </thead>\n",
       "  <tbody>\n",
       "    <tr>\n",
       "      <th>0</th>\n",
       "      <td>0.0</td>\n",
       "      <td>0.789062</td>\n",
       "    </tr>\n",
       "    <tr>\n",
       "      <th>1</th>\n",
       "      <td>0.1</td>\n",
       "      <td>0.774947</td>\n",
       "    </tr>\n",
       "    <tr>\n",
       "      <th>2</th>\n",
       "      <td>0.2</td>\n",
       "      <td>0.822857</td>\n",
       "    </tr>\n",
       "    <tr>\n",
       "      <th>3</th>\n",
       "      <td>0.3</td>\n",
       "      <td>0.793173</td>\n",
       "    </tr>\n",
       "    <tr>\n",
       "      <th>4</th>\n",
       "      <td>0.4</td>\n",
       "      <td>0.790123</td>\n",
       "    </tr>\n",
       "  </tbody>\n",
       "</table>\n",
       "</div>"
      ],
      "text/plain": [
       "  price empirical probability of purchase\n",
       "                                         \n",
       "0   0.0                          0.789062\n",
       "1   0.1                          0.774947\n",
       "2   0.2                          0.822857\n",
       "3   0.3                          0.793173\n",
       "4   0.4                          0.790123"
      ]
     },
     "execution_count": 10,
     "metadata": {},
     "output_type": "execute_result"
    }
   ],
   "source": [
    "rounded_df = df.round(1)\n",
    "grouped_df = rounded_df.groupby('price').agg({\"purchase\":[np.sum,'count']})\n",
    "grouped_df = grouped_df.reset_index()\n",
    "grouped_df['empirical probability of purchase'] = grouped_df['purchase']['sum'] / grouped_df[\"purchase\"]['count']\n",
    "grouped_df = grouped_df[['price','empirical probability of purchase']]\n",
    "grouped_df.head()"
   ]
  },
  {
   "cell_type": "code",
   "execution_count": 11,
   "metadata": {},
   "outputs": [],
   "source": [
    "x_value = grouped_df['price'].values\n",
    "x_value_constant = sm.add_constant(x_value)\n",
    "y_value = grouped_df['empirical probability of purchase']\n",
    "model_line = model.predict(x_value_constant)"
   ]
  },
  {
   "cell_type": "code",
   "execution_count": 12,
   "metadata": {},
   "outputs": [
    {
     "data": {
      "text/plain": [
       "Text(0, 0.5, 'empirical probability')"
      ]
     },
     "execution_count": 12,
     "metadata": {},
     "output_type": "execute_result"
    },
    {
     "data": {
      "image/png": "[encoded data removed]",
      "text/plain": [
       "<Figure size 432x288 with 1 Axes>"
      ]
     },
     "metadata": {
      "needs_background": "light"
     },
     "output_type": "display_data"
    }
   ],
   "source": [
    "plt.scatter(x_value,y_value) #QUESTION -- how do I plot my logistic model on this graph/use it for predictions?\n",
    "plt.scatter(x_value, model_line)\n",
    "#plt.plot(x_value,model_line,c='red')\n",
    "plt.xlabel(\"price\")\n",
    "plt.ylabel(\"empirical probability\")"
   ]
  },
  {
   "cell_type": "markdown",
   "metadata": {},
   "source": [
    "### 2C.\n",
    "To better explain the data, we are going to fit a different model. We are going to assume that the data was generated from the model P(Y=1|X) = q*L(beta_0 + beta_1 * x), for some parameters q, beta_0, and beta_1.  This is because the customers were offered the product with a push notification, and only a fraction q of the customers actually looked at their phone when the push notification was sent. For those that ignored the push notification, the price has no impact and they didn't purchase a meal.\n",
    "\n",
    "We will then estimate these three parameters via maximum likelihood estimation.  As a first step, write down a formula for the likelihood. This is clearest when done in latex. Some examples are given below to help you.\n",
    "\n",
    "Your answer should depend on:\n",
    "* $q$\n",
    "* $\\beta_0$\n",
    "* $\\beta_1$\n",
    "* $y_i$ (whether the i-th customer in the dataset mode a purchase or not)\n",
    "* $x_i$ (the price shown to the i-th customer in the dataset)\n",
    "\n",
    "Then, write down the natural logarithm of the likelihood."
   ]
  },
  {
   "cell_type": "markdown",
   "metadata": {},
   "source": [
    "Formula for likelihood\n",
    "\n",
    "$\\prod_{i=1}^n (q*L(\\beta_0+\\beta_1*x_i))(X_{i,1} , ... , X_{i,((q*L(\\beta_0+\\beta_1*x_i)))} )^{y_i} (1-(q*L(\\beta_0+\\beta_1*x_i))(X_{i,1} , ... , X_{i,(q*L(\\beta_0+\\beta_1*x_i))}))^{1-y_i}$"
   ]
  },
  {
   "cell_type": "markdown",
   "metadata": {},
   "source": [
    "Natural Log of the likelihood"
   ]
  },
  {
   "cell_type": "markdown",
   "metadata": {},
   "source": [
    "$\\sum_{i=1}^n y_i * \\ln( (q*L(\\beta_0+\\beta_1*x_i))(X_{i,1} , ... , X_{i,((q*L(\\beta_0+\\beta_1*x_i)))} ) + (1-y_i) * \\ln((1-(q*L(\\beta_0+\\beta_1*x_i))(X_{i,1} , ... , X_{i,(q*L(\\beta_0+\\beta_1*x_i))})) )$"
   ]
  },
  {
   "cell_type": "markdown",
   "metadata": {},
   "source": [
    "Examples of using latex in a python notebook\n",
    "\n",
    "* Writing a product: $\\prod_{i=1}^n a_i$\n",
    "* Writing a sum: $\\sum_{i=1}^n b_i$\n",
    "* Writing greek letters: $\\beta_j$, $\\alpha_5$, $\\gamma_2$\n",
    "* Raising something to a power: $a^{b+c}$\n",
    "* Putting something in a subscript: $z_k$\n",
    "* Taking the log: $\\log(5)$"
   ]
  },
  {
   "cell_type": "markdown",
   "metadata": {},
   "source": [
    "### 2D\n",
    "Write a function called `log_likelihood` that calculates the log likelihood. It should take as input `q`, `beta_0`, and `beta_1` and it should also use the data that you loaded above in part A.  To help you, the following code will compute the logistic function on each entry in a Pandas Series and return the result as another series.  Calculate the log likelihood at `q`=0.5, `beta_0` = 1, and `beta_1` = 1."
   ]
  },
  {
   "cell_type": "code",
   "execution_count": 20,
   "metadata": {},
   "outputs": [
    {
     "data": {
      "text/html": [
       "<div>\n",
       "<style scoped>\n",
       "    .dataframe tbody tr th:only-of-type {\n",
       "        vertical-align: middle;\n",
       "    }\n",
       "\n",
       "    .dataframe tbody tr th {\n",
       "        vertical-align: top;\n",
       "    }\n",
       "\n",
       "    .dataframe thead th {\n",
       "        text-align: right;\n",
       "    }\n",
       "</style>\n",
       "<table border=\"1\" class=\"dataframe\">\n",
       "  <thead>\n",
       "    <tr style=\"text-align: right;\">\n",
       "      <th></th>\n",
       "      <th>price</th>\n",
       "      <th>purchase</th>\n",
       "    </tr>\n",
       "  </thead>\n",
       "  <tbody>\n",
       "    <tr>\n",
       "      <th>0</th>\n",
       "      <td>0.669310</td>\n",
       "      <td>1</td>\n",
       "    </tr>\n",
       "    <tr>\n",
       "      <th>1</th>\n",
       "      <td>5.268658</td>\n",
       "      <td>1</td>\n",
       "    </tr>\n",
       "    <tr>\n",
       "      <th>2</th>\n",
       "      <td>17.370370</td>\n",
       "      <td>0</td>\n",
       "    </tr>\n",
       "    <tr>\n",
       "      <th>3</th>\n",
       "      <td>7.076877</td>\n",
       "      <td>1</td>\n",
       "    </tr>\n",
       "    <tr>\n",
       "      <th>4</th>\n",
       "      <td>3.341077</td>\n",
       "      <td>1</td>\n",
       "    </tr>\n",
       "  </tbody>\n",
       "</table>\n",
       "</div>"
      ],
      "text/plain": [
       "       price  purchase\n",
       "0   0.669310         1\n",
       "1   5.268658         1\n",
       "2  17.370370         0\n",
       "3   7.076877         1\n",
       "4   3.341077         1"
      ]
     },
     "execution_count": 20,
     "metadata": {},
     "output_type": "execute_result"
    }
   ],
   "source": [
    "df.head()"
   ]
  },
  {
   "cell_type": "code",
   "execution_count": 13,
   "metadata": {},
   "outputs": [],
   "source": [
    "def L(x):\n",
    "    return 1./(1+np.exp(-x))"
   ]
  },
  {
   "cell_type": "code",
   "execution_count": 37,
   "metadata": {},
   "outputs": [],
   "source": [
    "def log_likelihood(q,beta_0,beta_1):\n",
    "    first_term = (df[\"purchase\"]) * np.log(q*L(beta_0 + beta_1 * df['price']))\n",
    "    second_term = (1-df[\"purchase\"]) * np.log(1 - (q*L(beta_0 + beta_1 * df['price'])))\n",
    "    answer = first_term + second_term\n",
    "    return(answer.sum())"
   ]
  },
  {
   "cell_type": "code",
   "execution_count": 38,
   "metadata": {},
   "outputs": [
    {
     "data": {
      "text/plain": [
       "-70358.77854754729"
      ]
     },
     "execution_count": 38,
     "metadata": {},
     "output_type": "execute_result"
    }
   ],
   "source": [
    "log_likelihood(.5,1,1)"
   ]
  },
  {
   "cell_type": "markdown",
   "metadata": {},
   "source": [
    "### 2E\n",
    "\n",
    "To find the maximum likelihood estimate, we will use random search. You may find code from Recitation 8 helpful here, where we used random search for a different purpose.\n",
    "\n",
    "To do this, create a new dataframe called `newdata` that contains 1000 records and these three fields, generated at random:\n",
    "* Draw `q` from a uniform between 0 and 1\n",
    "* Draw `beta_0` from a uniform between 0 and 20\n",
    "* Draw `beta_1` from a uniform between -2 and 0\n",
    "\n",
    "Then, add a new field called `log_likelihood` and for each record set it equal to the value of your `log_likelihood` function evaluated at the `q`, `beta_0`, and `beta_1` in the other fields in this record.  To help you, one way to create new entries one record at a time using iterrows() (which you used in a previous recitation) is below.\n",
    "\n",
    "Then, find the record in `newdata` with the largest value for `log_likelihood`.  Create values `mle_q`, `mle_beta0`, and `mle_beta1` equal to the values of the three parameters in this record. What are these values?"
   ]
  },
  {
   "cell_type": "code",
   "execution_count": 39,
   "metadata": {},
   "outputs": [],
   "source": [
    "# To help you, here is some example code that generates a dataframe with some random values, \n",
    "# and then creates a new field that has the result of a function evaluated on the other fields.\n",
    "newdata = pd.DataFrame()\n",
    "N = 1000\n",
    "np.random.seed(10)\n",
    "newdata['example0'] = np.random.uniform(-2,4,N) # Generate some random data\n",
    "newdata['example1'] = np.random.uniform(-2,4,N) # Generate some random data\n",
    "\n",
    "def fn(x,y):\n",
    "    if x<y:\n",
    "        return 5\n",
    "    else:\n",
    "        return 2\n",
    "\n",
    "newdata['example2']=0\n",
    "for index, row in newdata.iterrows():\n",
    "    newdata.loc[index,'example2'] = fn(row['example1'],row['example2'])"
   ]
  },
  {
   "cell_type": "code",
   "execution_count": 40,
   "metadata": {},
   "outputs": [],
   "source": [
    "newdata = pd.DataFrame()\n",
    "N = 1000\n",
    "np.random.seed(10)\n",
    "newdata['q'] = np.random.uniform(0,1,N)\n",
    "newdata['beta_0'] = np.random.uniform(0,20,N) # Generate some random data\n",
    "newdata['beta_1'] = np.random.uniform(-2,0,N) # Generate some random data\n",
    "\n",
    "newdata['log_likelihood'] = 0\n",
    "for index, row in newdata.iterrows():\n",
    "    newdata.loc[index, 'log_likelihood'] = log_likelihood(row['q'],row['beta_0'],row['beta_1'])"
   ]
  },
  {
   "cell_type": "code",
   "execution_count": 42,
   "metadata": {},
   "outputs": [
    {
     "data": {
      "text/html": [
       "<div>\n",
       "<style scoped>\n",
       "    .dataframe tbody tr th:only-of-type {\n",
       "        vertical-align: middle;\n",
       "    }\n",
       "\n",
       "    .dataframe tbody tr th {\n",
       "        vertical-align: top;\n",
       "    }\n",
       "\n",
       "    .dataframe thead th {\n",
       "        text-align: right;\n",
       "    }\n",
       "</style>\n",
       "<table border=\"1\" class=\"dataframe\">\n",
       "  <thead>\n",
       "    <tr style=\"text-align: right;\">\n",
       "      <th></th>\n",
       "      <th>q</th>\n",
       "      <th>beta_0</th>\n",
       "      <th>beta_1</th>\n",
       "      <th>log_likelihood</th>\n",
       "    </tr>\n",
       "  </thead>\n",
       "  <tbody>\n",
       "    <tr>\n",
       "      <th>511</th>\n",
       "      <td>0.800694</td>\n",
       "      <td>10.307195</td>\n",
       "      <td>-1.032002</td>\n",
       "      <td>-34933.048855</td>\n",
       "    </tr>\n",
       "  </tbody>\n",
       "</table>\n",
       "</div>"
      ],
      "text/plain": [
       "            q     beta_0    beta_1  log_likelihood\n",
       "511  0.800694  10.307195 -1.032002   -34933.048855"
      ]
     },
     "execution_count": 42,
     "metadata": {},
     "output_type": "execute_result"
    }
   ],
   "source": [
    "df_max_likelihood = newdata[newdata['log_likelihood'] == newdata['log_likelihood'].max()]\n",
    "df_max_likelihood"
   ]
  },
  {
   "cell_type": "markdown",
   "metadata": {},
   "source": [
    "### 2F\n",
    "For each rounded price that you plotted against in 2B, plot:\n",
    "* the empirical purchase probability, as a dot\n",
    "* the probability of a purchase according to the model that you fit using maximum likelihood estimation, as a line\n",
    "    \n",
    "You should see that the probability of purchase according to maximum likelihood estimation fits the data much better than your earlier logistic regression model."
   ]
  },
  {
   "cell_type": "code",
   "execution_count": 53,
   "metadata": {},
   "outputs": [],
   "source": [
    "probability_purchase = .800694 * L(10.307195-1.032002*x_value)"
   ]
  },
  {
   "cell_type": "code",
   "execution_count": 54,
   "metadata": {},
   "outputs": [
    {
     "data": {
      "text/plain": [
       "[<matplotlib.lines.Line2D at 0x16e9e4f79b0>]"
      ]
     },
     "execution_count": 54,
     "metadata": {},
     "output_type": "execute_result"
    },
    {
     "data": {
      "image/png": "[encoded data removed]",
      "text/plain": [
       "<Figure size 432x288 with 1 Axes>"
      ]
     },
     "metadata": {
      "needs_background": "light"
     },
     "output_type": "display_data"
    }
   ],
   "source": [
    "plt.plot(x_value,y_value,'.')\n",
    "plt.plot(x_value,probability_purchase, '-')"
   ]
  },
  {
   "cell_type": "markdown",
   "metadata": {
    "colab_type": "text",
    "id": "lTYRBSekIKxW"
   },
   "source": [
    "## Problem 3: Multiple Linear Regression and Understanding p-values\n",
    "\n",
    "In this problem, we will try to predict the energy used by appliances based on the temperature in and humidity of various rooms of a house and the outside weather conditions. We will use 'energydata.csv'. The full dataset and descriptions of the columns can be found [here](http://archive.ics.uci.edu/ml/datasets/Appliances+energy+prediction#). Please use the data posted on the website for analysis as we have removed some columns and filtered the data. \n",
    "\n",
    "a. Begin by loading the data. Display the names of the columns and the first 5 rows. (It is often a good idea to display column names and a few rows to make sure you understand what is included in the data you imported.)"
   ]
  },
  {
   "cell_type": "code",
   "execution_count": 16,
   "metadata": {
    "colab": {},
    "colab_type": "code",
    "id": "OElwnXoHjCm7"
   },
   "outputs": [
    {
     "data": {
      "text/html": [
       "<div>\n",
       "<style scoped>\n",
       "    .dataframe tbody tr th:only-of-type {\n",
       "        vertical-align: middle;\n",
       "    }\n",
       "\n",
       "    .dataframe tbody tr th {\n",
       "        vertical-align: top;\n",
       "    }\n",
       "\n",
       "    .dataframe thead th {\n",
       "        text-align: right;\n",
       "    }\n",
       "</style>\n",
       "<table border=\"1\" class=\"dataframe\">\n",
       "  <thead>\n",
       "    <tr style=\"text-align: right;\">\n",
       "      <th></th>\n",
       "      <th>Appliances</th>\n",
       "      <th>T1</th>\n",
       "      <th>RH_1</th>\n",
       "      <th>T2</th>\n",
       "      <th>RH_2</th>\n",
       "      <th>T3</th>\n",
       "      <th>RH_3</th>\n",
       "      <th>T4</th>\n",
       "      <th>RH_4</th>\n",
       "      <th>T5</th>\n",
       "      <th>...</th>\n",
       "      <th>T8</th>\n",
       "      <th>RH_8</th>\n",
       "      <th>T9</th>\n",
       "      <th>RH_9</th>\n",
       "      <th>T_out</th>\n",
       "      <th>Press_mm_hg</th>\n",
       "      <th>RH_out</th>\n",
       "      <th>Windspeed</th>\n",
       "      <th>Visibility</th>\n",
       "      <th>Tdewpoint</th>\n",
       "    </tr>\n",
       "  </thead>\n",
       "  <tbody>\n",
       "    <tr>\n",
       "      <th>0</th>\n",
       "      <td>60</td>\n",
       "      <td>19.890000</td>\n",
       "      <td>47.596667</td>\n",
       "      <td>19.200000</td>\n",
       "      <td>44.790000</td>\n",
       "      <td>19.79</td>\n",
       "      <td>44.730000</td>\n",
       "      <td>19.000000</td>\n",
       "      <td>45.566667</td>\n",
       "      <td>17.166667</td>\n",
       "      <td>...</td>\n",
       "      <td>18.20</td>\n",
       "      <td>48.900000</td>\n",
       "      <td>17.033333</td>\n",
       "      <td>45.530</td>\n",
       "      <td>6.6</td>\n",
       "      <td>733.5</td>\n",
       "      <td>92.0</td>\n",
       "      <td>7.0</td>\n",
       "      <td>63.0</td>\n",
       "      <td>5.3</td>\n",
       "    </tr>\n",
       "    <tr>\n",
       "      <th>1</th>\n",
       "      <td>40</td>\n",
       "      <td>21.390000</td>\n",
       "      <td>44.560000</td>\n",
       "      <td>20.790000</td>\n",
       "      <td>43.863333</td>\n",
       "      <td>20.20</td>\n",
       "      <td>45.663333</td>\n",
       "      <td>20.633333</td>\n",
       "      <td>46.790000</td>\n",
       "      <td>19.200000</td>\n",
       "      <td>...</td>\n",
       "      <td>19.39</td>\n",
       "      <td>51.163333</td>\n",
       "      <td>16.890000</td>\n",
       "      <td>45.700</td>\n",
       "      <td>5.3</td>\n",
       "      <td>736.9</td>\n",
       "      <td>92.0</td>\n",
       "      <td>6.0</td>\n",
       "      <td>22.0</td>\n",
       "      <td>4.1</td>\n",
       "    </tr>\n",
       "    <tr>\n",
       "      <th>2</th>\n",
       "      <td>50</td>\n",
       "      <td>20.100000</td>\n",
       "      <td>46.363333</td>\n",
       "      <td>19.500000</td>\n",
       "      <td>44.790000</td>\n",
       "      <td>20.29</td>\n",
       "      <td>45.590000</td>\n",
       "      <td>19.760000</td>\n",
       "      <td>46.590000</td>\n",
       "      <td>18.500000</td>\n",
       "      <td>...</td>\n",
       "      <td>19.10</td>\n",
       "      <td>54.290000</td>\n",
       "      <td>17.100000</td>\n",
       "      <td>49.260</td>\n",
       "      <td>5.0</td>\n",
       "      <td>739.9</td>\n",
       "      <td>91.0</td>\n",
       "      <td>5.0</td>\n",
       "      <td>40.0</td>\n",
       "      <td>3.6</td>\n",
       "    </tr>\n",
       "    <tr>\n",
       "      <th>3</th>\n",
       "      <td>50</td>\n",
       "      <td>19.890000</td>\n",
       "      <td>46.766667</td>\n",
       "      <td>19.033333</td>\n",
       "      <td>44.500000</td>\n",
       "      <td>20.00</td>\n",
       "      <td>44.790000</td>\n",
       "      <td>20.133333</td>\n",
       "      <td>44.700000</td>\n",
       "      <td>18.033333</td>\n",
       "      <td>...</td>\n",
       "      <td>18.50</td>\n",
       "      <td>49.000000</td>\n",
       "      <td>17.050000</td>\n",
       "      <td>45.245</td>\n",
       "      <td>6.4</td>\n",
       "      <td>743.3</td>\n",
       "      <td>86.0</td>\n",
       "      <td>5.0</td>\n",
       "      <td>40.0</td>\n",
       "      <td>4.2</td>\n",
       "    </tr>\n",
       "    <tr>\n",
       "      <th>4</th>\n",
       "      <td>60</td>\n",
       "      <td>20.066667</td>\n",
       "      <td>42.833333</td>\n",
       "      <td>19.000000</td>\n",
       "      <td>42.418182</td>\n",
       "      <td>19.79</td>\n",
       "      <td>44.700000</td>\n",
       "      <td>19.260000</td>\n",
       "      <td>42.560000</td>\n",
       "      <td>17.600000</td>\n",
       "      <td>...</td>\n",
       "      <td>18.60</td>\n",
       "      <td>45.790000</td>\n",
       "      <td>17.100000</td>\n",
       "      <td>43.260</td>\n",
       "      <td>6.5</td>\n",
       "      <td>744.2</td>\n",
       "      <td>75.0</td>\n",
       "      <td>7.0</td>\n",
       "      <td>29.0</td>\n",
       "      <td>2.3</td>\n",
       "    </tr>\n",
       "  </tbody>\n",
       "</table>\n",
       "<p>5 rows × 25 columns</p>\n",
       "</div>"
      ],
      "text/plain": [
       "   Appliances         T1       RH_1         T2       RH_2     T3       RH_3  \\\n",
       "0          60  19.890000  47.596667  19.200000  44.790000  19.79  44.730000   \n",
       "1          40  21.390000  44.560000  20.790000  43.863333  20.20  45.663333   \n",
       "2          50  20.100000  46.363333  19.500000  44.790000  20.29  45.590000   \n",
       "3          50  19.890000  46.766667  19.033333  44.500000  20.00  44.790000   \n",
       "4          60  20.066667  42.833333  19.000000  42.418182  19.79  44.700000   \n",
       "\n",
       "          T4       RH_4         T5  ...     T8       RH_8         T9    RH_9  \\\n",
       "0  19.000000  45.566667  17.166667  ...  18.20  48.900000  17.033333  45.530   \n",
       "1  20.633333  46.790000  19.200000  ...  19.39  51.163333  16.890000  45.700   \n",
       "2  19.760000  46.590000  18.500000  ...  19.10  54.290000  17.100000  49.260   \n",
       "3  20.133333  44.700000  18.033333  ...  18.50  49.000000  17.050000  45.245   \n",
       "4  19.260000  42.560000  17.600000  ...  18.60  45.790000  17.100000  43.260   \n",
       "\n",
       "   T_out  Press_mm_hg  RH_out  Windspeed  Visibility  Tdewpoint  \n",
       "0    6.6        733.5    92.0        7.0        63.0        5.3  \n",
       "1    5.3        736.9    92.0        6.0        22.0        4.1  \n",
       "2    5.0        739.9    91.0        5.0        40.0        3.6  \n",
       "3    6.4        743.3    86.0        5.0        40.0        4.2  \n",
       "4    6.5        744.2    75.0        7.0        29.0        2.3  \n",
       "\n",
       "[5 rows x 25 columns]"
      ]
     },
     "execution_count": 16,
     "metadata": {},
     "output_type": "execute_result"
    }
   ],
   "source": [
    "#Code Here\n",
    "energy_df = pd.read_csv('energydata.csv')\n",
    "energy_df.head()"
   ]
  },
  {
   "cell_type": "markdown",
   "metadata": {
    "colab_type": "text",
    "id": "j_88d3h1Krk4"
   },
   "source": [
    "b. Use sm.OLS().fit to build a linear model. Print the model summary. "
   ]
  },
  {
   "cell_type": "code",
   "execution_count": 17,
   "metadata": {
    "colab": {},
    "colab_type": "code",
    "id": "uhb1cOxILDK9"
   },
   "outputs": [
    {
     "data": {
      "text/html": [
       "<table class=\"simpletable\">\n",
       "<caption>OLS Regression Results</caption>\n",
       "<tr>\n",
       "  <th>Dep. Variable:</th>       <td>Appliances</td>    <th>  R-squared:         </th> <td>   0.163</td>\n",
       "</tr>\n",
       "<tr>\n",
       "  <th>Model:</th>                   <td>OLS</td>       <th>  Adj. R-squared:    </th> <td>   0.124</td>\n",
       "</tr>\n",
       "<tr>\n",
       "  <th>Method:</th>             <td>Least Squares</td>  <th>  F-statistic:       </th> <td>   4.247</td>\n",
       "</tr>\n",
       "<tr>\n",
       "  <th>Date:</th>             <td>Mon, 12 Apr 2021</td> <th>  Prob (F-statistic):</th> <td>2.07e-10</td>\n",
       "</tr>\n",
       "<tr>\n",
       "  <th>Time:</th>                 <td>20:13:05</td>     <th>  Log-Likelihood:    </th> <td> -3282.8</td>\n",
       "</tr>\n",
       "<tr>\n",
       "  <th>No. Observations:</th>      <td>   549</td>      <th>  AIC:               </th> <td>   6616.</td>\n",
       "</tr>\n",
       "<tr>\n",
       "  <th>Df Residuals:</th>          <td>   524</td>      <th>  BIC:               </th> <td>   6723.</td>\n",
       "</tr>\n",
       "<tr>\n",
       "  <th>Df Model:</th>              <td>    24</td>      <th>                     </th>     <td> </td>   \n",
       "</tr>\n",
       "<tr>\n",
       "  <th>Covariance Type:</th>      <td>nonrobust</td>    <th>                     </th>     <td> </td>   \n",
       "</tr>\n",
       "</table>\n",
       "<table class=\"simpletable\">\n",
       "<tr>\n",
       "       <td></td>          <th>coef</th>     <th>std err</th>      <th>t</th>      <th>P>|t|</th>  <th>[0.025</th>    <th>0.975]</th>  \n",
       "</tr>\n",
       "<tr>\n",
       "  <th>const</th>       <td>    1.9536</td> <td>  600.978</td> <td>    0.003</td> <td> 0.997</td> <td>-1178.669</td> <td> 1182.576</td>\n",
       "</tr>\n",
       "<tr>\n",
       "  <th>T1</th>          <td>   -2.1323</td> <td>   11.368</td> <td>   -0.188</td> <td> 0.851</td> <td>  -24.464</td> <td>   20.200</td>\n",
       "</tr>\n",
       "<tr>\n",
       "  <th>RH_1</th>        <td>   12.9817</td> <td>    4.888</td> <td>    2.656</td> <td> 0.008</td> <td>    3.378</td> <td>   22.585</td>\n",
       "</tr>\n",
       "<tr>\n",
       "  <th>T2</th>          <td>  -28.2677</td> <td>   10.099</td> <td>   -2.799</td> <td> 0.005</td> <td>  -48.108</td> <td>   -8.427</td>\n",
       "</tr>\n",
       "<tr>\n",
       "  <th>RH_2</th>        <td>  -15.1415</td> <td>    5.216</td> <td>   -2.903</td> <td> 0.004</td> <td>  -25.388</td> <td>   -4.895</td>\n",
       "</tr>\n",
       "<tr>\n",
       "  <th>T3</th>          <td>   32.3508</td> <td>    6.693</td> <td>    4.833</td> <td> 0.000</td> <td>   19.202</td> <td>   45.499</td>\n",
       "</tr>\n",
       "<tr>\n",
       "  <th>RH_3</th>        <td>    6.2454</td> <td>    4.273</td> <td>    1.462</td> <td> 0.144</td> <td>   -2.149</td> <td>   14.640</td>\n",
       "</tr>\n",
       "<tr>\n",
       "  <th>T4</th>          <td>   11.7059</td> <td>    5.939</td> <td>    1.971</td> <td> 0.049</td> <td>    0.038</td> <td>   23.373</td>\n",
       "</tr>\n",
       "<tr>\n",
       "  <th>RH_4</th>        <td>    7.6966</td> <td>    3.940</td> <td>    1.953</td> <td> 0.051</td> <td>   -0.044</td> <td>   15.438</td>\n",
       "</tr>\n",
       "<tr>\n",
       "  <th>T5</th>          <td>  -10.0444</td> <td>    7.698</td> <td>   -1.305</td> <td> 0.193</td> <td>  -25.168</td> <td>    5.079</td>\n",
       "</tr>\n",
       "<tr>\n",
       "  <th>RH_5</th>        <td>    0.5142</td> <td>    0.632</td> <td>    0.814</td> <td> 0.416</td> <td>   -0.726</td> <td>    1.755</td>\n",
       "</tr>\n",
       "<tr>\n",
       "  <th>T6</th>          <td>    9.1660</td> <td>    4.135</td> <td>    2.217</td> <td> 0.027</td> <td>    1.044</td> <td>   17.288</td>\n",
       "</tr>\n",
       "<tr>\n",
       "  <th>RH_6</th>        <td>    0.4448</td> <td>    0.439</td> <td>    1.013</td> <td> 0.312</td> <td>   -0.418</td> <td>    1.308</td>\n",
       "</tr>\n",
       "<tr>\n",
       "  <th>T7</th>          <td>  -15.2589</td> <td>    8.119</td> <td>   -1.879</td> <td> 0.061</td> <td>  -31.209</td> <td>    0.691</td>\n",
       "</tr>\n",
       "<tr>\n",
       "  <th>RH_7</th>        <td>   -1.7082</td> <td>    2.695</td> <td>   -0.634</td> <td> 0.527</td> <td>   -7.003</td> <td>    3.587</td>\n",
       "</tr>\n",
       "<tr>\n",
       "  <th>T8</th>          <td>    7.0290</td> <td>    5.958</td> <td>    1.180</td> <td> 0.239</td> <td>   -4.675</td> <td>   18.733</td>\n",
       "</tr>\n",
       "<tr>\n",
       "  <th>RH_8</th>        <td>   -6.0909</td> <td>    2.354</td> <td>   -2.588</td> <td> 0.010</td> <td>  -10.715</td> <td>   -1.467</td>\n",
       "</tr>\n",
       "<tr>\n",
       "  <th>T9</th>          <td>    1.1775</td> <td>   11.184</td> <td>    0.105</td> <td> 0.916</td> <td>  -20.793</td> <td>   23.148</td>\n",
       "</tr>\n",
       "<tr>\n",
       "  <th>RH_9</th>        <td>   -2.2504</td> <td>    2.723</td> <td>   -0.826</td> <td> 0.409</td> <td>   -7.600</td> <td>    3.099</td>\n",
       "</tr>\n",
       "<tr>\n",
       "  <th>T_out</th>       <td>  -12.0544</td> <td>    9.313</td> <td>   -1.294</td> <td> 0.196</td> <td>  -30.349</td> <td>    6.240</td>\n",
       "</tr>\n",
       "<tr>\n",
       "  <th>Press_mm_hg</th> <td>    0.1607</td> <td>    0.682</td> <td>    0.236</td> <td> 0.814</td> <td>   -1.178</td> <td>    1.500</td>\n",
       "</tr>\n",
       "<tr>\n",
       "  <th>RH_out</th>      <td>   -1.6528</td> <td>    1.937</td> <td>   -0.853</td> <td> 0.394</td> <td>   -5.458</td> <td>    2.152</td>\n",
       "</tr>\n",
       "<tr>\n",
       "  <th>Windspeed</th>   <td>    2.8774</td> <td>    2.128</td> <td>    1.352</td> <td> 0.177</td> <td>   -1.303</td> <td>    7.058</td>\n",
       "</tr>\n",
       "<tr>\n",
       "  <th>Visibility</th>  <td>   -0.1211</td> <td>    0.320</td> <td>   -0.378</td> <td> 0.706</td> <td>   -0.750</td> <td>    0.508</td>\n",
       "</tr>\n",
       "<tr>\n",
       "  <th>Tdewpoint</th>   <td>    2.2306</td> <td>    8.939</td> <td>    0.250</td> <td> 0.803</td> <td>  -15.330</td> <td>   19.792</td>\n",
       "</tr>\n",
       "</table>\n",
       "<table class=\"simpletable\">\n",
       "<tr>\n",
       "  <th>Omnibus:</th>       <td>435.840</td> <th>  Durbin-Watson:     </th> <td>   1.918</td>\n",
       "</tr>\n",
       "<tr>\n",
       "  <th>Prob(Omnibus):</th> <td> 0.000</td>  <th>  Jarque-Bera (JB):  </th> <td>7322.532</td>\n",
       "</tr>\n",
       "<tr>\n",
       "  <th>Skew:</th>          <td> 3.465</td>  <th>  Prob(JB):          </th> <td>    0.00</td>\n",
       "</tr>\n",
       "<tr>\n",
       "  <th>Kurtosis:</th>      <td>19.495</td>  <th>  Cond. No.          </th> <td>1.11e+05</td>\n",
       "</tr>\n",
       "</table><br/><br/>Warnings:<br/>[1] Standard Errors assume that the covariance matrix of the errors is correctly specified.<br/>[2] The condition number is large, 1.11e+05. This might indicate that there are<br/>strong multicollinearity or other numerical problems."
      ],
      "text/plain": [
       "<class 'statsmodels.iolib.summary.Summary'>\n",
       "\"\"\"\n",
       "                            OLS Regression Results                            \n",
       "==============================================================================\n",
       "Dep. Variable:             Appliances   R-squared:                       0.163\n",
       "Model:                            OLS   Adj. R-squared:                  0.124\n",
       "Method:                 Least Squares   F-statistic:                     4.247\n",
       "Date:                Mon, 12 Apr 2021   Prob (F-statistic):           2.07e-10\n",
       "Time:                        20:13:05   Log-Likelihood:                -3282.8\n",
       "No. Observations:                 549   AIC:                             6616.\n",
       "Df Residuals:                     524   BIC:                             6723.\n",
       "Df Model:                          24                                         \n",
       "Covariance Type:            nonrobust                                         \n",
       "===============================================================================\n",
       "                  coef    std err          t      P>|t|      [0.025      0.975]\n",
       "-------------------------------------------------------------------------------\n",
       "const           1.9536    600.978      0.003      0.997   -1178.669    1182.576\n",
       "T1             -2.1323     11.368     -0.188      0.851     -24.464      20.200\n",
       "RH_1           12.9817      4.888      2.656      0.008       3.378      22.585\n",
       "T2            -28.2677     10.099     -2.799      0.005     -48.108      -8.427\n",
       "RH_2          -15.1415      5.216     -2.903      0.004     -25.388      -4.895\n",
       "T3             32.3508      6.693      4.833      0.000      19.202      45.499\n",
       "RH_3            6.2454      4.273      1.462      0.144      -2.149      14.640\n",
       "T4             11.7059      5.939      1.971      0.049       0.038      23.373\n",
       "RH_4            7.6966      3.940      1.953      0.051      -0.044      15.438\n",
       "T5            -10.0444      7.698     -1.305      0.193     -25.168       5.079\n",
       "RH_5            0.5142      0.632      0.814      0.416      -0.726       1.755\n",
       "T6              9.1660      4.135      2.217      0.027       1.044      17.288\n",
       "RH_6            0.4448      0.439      1.013      0.312      -0.418       1.308\n",
       "T7            -15.2589      8.119     -1.879      0.061     -31.209       0.691\n",
       "RH_7           -1.7082      2.695     -0.634      0.527      -7.003       3.587\n",
       "T8              7.0290      5.958      1.180      0.239      -4.675      18.733\n",
       "RH_8           -6.0909      2.354     -2.588      0.010     -10.715      -1.467\n",
       "T9              1.1775     11.184      0.105      0.916     -20.793      23.148\n",
       "RH_9           -2.2504      2.723     -0.826      0.409      -7.600       3.099\n",
       "T_out         -12.0544      9.313     -1.294      0.196     -30.349       6.240\n",
       "Press_mm_hg     0.1607      0.682      0.236      0.814      -1.178       1.500\n",
       "RH_out         -1.6528      1.937     -0.853      0.394      -5.458       2.152\n",
       "Windspeed       2.8774      2.128      1.352      0.177      -1.303       7.058\n",
       "Visibility     -0.1211      0.320     -0.378      0.706      -0.750       0.508\n",
       "Tdewpoint       2.2306      8.939      0.250      0.803     -15.330      19.792\n",
       "==============================================================================\n",
       "Omnibus:                      435.840   Durbin-Watson:                   1.918\n",
       "Prob(Omnibus):                  0.000   Jarque-Bera (JB):             7322.532\n",
       "Skew:                           3.465   Prob(JB):                         0.00\n",
       "Kurtosis:                      19.495   Cond. No.                     1.11e+05\n",
       "==============================================================================\n",
       "\n",
       "Warnings:\n",
       "[1] Standard Errors assume that the covariance matrix of the errors is correctly specified.\n",
       "[2] The condition number is large, 1.11e+05. This might indicate that there are\n",
       "strong multicollinearity or other numerical problems.\n",
       "\"\"\""
      ]
     },
     "execution_count": 17,
     "metadata": {},
     "output_type": "execute_result"
    }
   ],
   "source": [
    "#Code Here\n",
    "X = energy_df.iloc[:,1:]\n",
    "Y = energy_df[\"Appliances\"]\n",
    "X = sm.add_constant(X)\n",
    "lin_model = sm.OLS(Y,X).fit()\n",
    "lin_model.summary()"
   ]
  },
  {
   "cell_type": "markdown",
   "metadata": {
    "colab_type": "text",
    "id": "M74MjfSmi2Pj"
   },
   "source": [
    "c. Which inputs are significant at the $\\alpha=0.05$ level?\n"
   ]
  },
  {
   "cell_type": "markdown",
   "metadata": {
    "colab_type": "text",
    "id": "vtPzFTI8tMrA"
   },
   "source": [
    "Ans: RH_1, T2, RH_2, T3, T4, T6, RH_8"
   ]
  },
  {
   "cell_type": "markdown",
   "metadata": {
    "colab_type": "text",
    "id": "vPBHJSzfL48q"
   },
   "source": [
    "d. You decide you want a model with only 5 features. Build a new model with the five features that had the smallest p-values in the previous model. Which features do you select?"
   ]
  },
  {
   "cell_type": "code",
   "execution_count": 18,
   "metadata": {
    "colab": {},
    "colab_type": "code",
    "id": "J7y3TyNouXm9"
   },
   "outputs": [],
   "source": [
    "#Code Here\n",
    "features = ['RH_1', 'T2', 'RH_2', 'T3', 'RH_8'] #QUESTION -- SHOULD I KEEP THE CONSTANT ?\n",
    "X = X[features]\n",
    "new_model = sm.OLS(Y, X).fit()"
   ]
  },
  {
   "cell_type": "markdown",
   "metadata": {
    "colab_type": "text",
    "id": "RmULtXOXxzi8"
   },
   "source": [
    "Ans: RH_1, T2, RH_2, T3, RH_8"
   ]
  },
  {
   "cell_type": "code",
   "execution_count": 19,
   "metadata": {},
   "outputs": [
    {
     "data": {
      "text/html": [
       "<table class=\"simpletable\">\n",
       "<caption>OLS Regression Results</caption>\n",
       "<tr>\n",
       "  <th>Dep. Variable:</th>       <td>Appliances</td>    <th>  R-squared (uncentered):</th>      <td>   0.489</td>\n",
       "</tr>\n",
       "<tr>\n",
       "  <th>Model:</th>                   <td>OLS</td>       <th>  Adj. R-squared (uncentered):</th> <td>   0.484</td>\n",
       "</tr>\n",
       "<tr>\n",
       "  <th>Method:</th>             <td>Least Squares</td>  <th>  F-statistic:       </th>          <td>   104.1</td>\n",
       "</tr>\n",
       "<tr>\n",
       "  <th>Date:</th>             <td>Mon, 12 Apr 2021</td> <th>  Prob (F-statistic):</th>          <td>6.10e-77</td>\n",
       "</tr>\n",
       "<tr>\n",
       "  <th>Time:</th>                 <td>20:13:05</td>     <th>  Log-Likelihood:    </th>          <td> -3308.2</td>\n",
       "</tr>\n",
       "<tr>\n",
       "  <th>No. Observations:</th>      <td>   549</td>      <th>  AIC:               </th>          <td>   6626.</td>\n",
       "</tr>\n",
       "<tr>\n",
       "  <th>Df Residuals:</th>          <td>   544</td>      <th>  BIC:               </th>          <td>   6648.</td>\n",
       "</tr>\n",
       "<tr>\n",
       "  <th>Df Model:</th>              <td>     5</td>      <th>                     </th>              <td> </td>   \n",
       "</tr>\n",
       "<tr>\n",
       "  <th>Covariance Type:</th>      <td>nonrobust</td>    <th>                     </th>              <td> </td>   \n",
       "</tr>\n",
       "</table>\n",
       "<table class=\"simpletable\">\n",
       "<tr>\n",
       "    <td></td>      <th>coef</th>     <th>std err</th>      <th>t</th>      <th>P>|t|</th>  <th>[0.025</th>    <th>0.975]</th>  \n",
       "</tr>\n",
       "<tr>\n",
       "  <th>RH_1</th> <td>   19.6565</td> <td>    3.124</td> <td>    6.293</td> <td> 0.000</td> <td>   13.520</td> <td>   25.792</td>\n",
       "</tr>\n",
       "<tr>\n",
       "  <th>T2</th>   <td>  -16.2112</td> <td>    4.918</td> <td>   -3.297</td> <td> 0.001</td> <td>  -25.871</td> <td>   -6.551</td>\n",
       "</tr>\n",
       "<tr>\n",
       "  <th>RH_2</th> <td>  -13.8212</td> <td>    3.091</td> <td>   -4.472</td> <td> 0.000</td> <td>  -19.892</td> <td>   -7.750</td>\n",
       "</tr>\n",
       "<tr>\n",
       "  <th>T3</th>   <td>   15.3860</td> <td>    4.516</td> <td>    3.407</td> <td> 0.001</td> <td>    6.515</td> <td>   24.257</td>\n",
       "</tr>\n",
       "<tr>\n",
       "  <th>RH_8</th> <td>   -3.5040</td> <td>    1.323</td> <td>   -2.649</td> <td> 0.008</td> <td>   -6.103</td> <td>   -0.905</td>\n",
       "</tr>\n",
       "</table>\n",
       "<table class=\"simpletable\">\n",
       "<tr>\n",
       "  <th>Omnibus:</th>       <td>465.987</td> <th>  Durbin-Watson:     </th> <td>   1.883</td>\n",
       "</tr>\n",
       "<tr>\n",
       "  <th>Prob(Omnibus):</th> <td> 0.000</td>  <th>  Jarque-Bera (JB):  </th> <td>9015.299</td>\n",
       "</tr>\n",
       "<tr>\n",
       "  <th>Skew:</th>          <td> 3.771</td>  <th>  Prob(JB):          </th> <td>    0.00</td>\n",
       "</tr>\n",
       "<tr>\n",
       "  <th>Kurtosis:</th>      <td>21.364</td>  <th>  Cond. No.          </th> <td>    135.</td>\n",
       "</tr>\n",
       "</table><br/><br/>Warnings:<br/>[1] Standard Errors assume that the covariance matrix of the errors is correctly specified."
      ],
      "text/plain": [
       "<class 'statsmodels.iolib.summary.Summary'>\n",
       "\"\"\"\n",
       "                                 OLS Regression Results                                \n",
       "=======================================================================================\n",
       "Dep. Variable:             Appliances   R-squared (uncentered):                   0.489\n",
       "Model:                            OLS   Adj. R-squared (uncentered):              0.484\n",
       "Method:                 Least Squares   F-statistic:                              104.1\n",
       "Date:                Mon, 12 Apr 2021   Prob (F-statistic):                    6.10e-77\n",
       "Time:                        20:13:05   Log-Likelihood:                         -3308.2\n",
       "No. Observations:                 549   AIC:                                      6626.\n",
       "Df Residuals:                     544   BIC:                                      6648.\n",
       "Df Model:                           5                                                  \n",
       "Covariance Type:            nonrobust                                                  \n",
       "==============================================================================\n",
       "                 coef    std err          t      P>|t|      [0.025      0.975]\n",
       "------------------------------------------------------------------------------\n",
       "RH_1          19.6565      3.124      6.293      0.000      13.520      25.792\n",
       "T2           -16.2112      4.918     -3.297      0.001     -25.871      -6.551\n",
       "RH_2         -13.8212      3.091     -4.472      0.000     -19.892      -7.750\n",
       "T3            15.3860      4.516      3.407      0.001       6.515      24.257\n",
       "RH_8          -3.5040      1.323     -2.649      0.008      -6.103      -0.905\n",
       "==============================================================================\n",
       "Omnibus:                      465.987   Durbin-Watson:                   1.883\n",
       "Prob(Omnibus):                  0.000   Jarque-Bera (JB):             9015.299\n",
       "Skew:                           3.771   Prob(JB):                         0.00\n",
       "Kurtosis:                      21.364   Cond. No.                         135.\n",
       "==============================================================================\n",
       "\n",
       "Warnings:\n",
       "[1] Standard Errors assume that the covariance matrix of the errors is correctly specified.\n",
       "\"\"\""
      ]
     },
     "execution_count": 19,
     "metadata": {},
     "output_type": "execute_result"
    }
   ],
   "source": [
    "new_model.summary()"
   ]
  }
 ],
 "metadata": {
  "colab": {
   "collapsed_sections": [],
   "name": "hw07.ipynb",
   "provenance": [],
   "toc_visible": true
  },
  "kernelspec": {
   "display_name": "Python 3",
   "language": "python",
   "name": "python3"
  },
  "language_info": {
   "codemirror_mode": {
    "name": "ipython",
    "version": 3
   },
   "file_extension": ".py",
   "mimetype": "text/x-python",
   "name": "python",
   "nbconvert_exporter": "python",
   "pygments_lexer": "ipython3",
   "version": "3.7.3"
  }
 },
 "nbformat": 4,
 "nbformat_minor": 1
}
