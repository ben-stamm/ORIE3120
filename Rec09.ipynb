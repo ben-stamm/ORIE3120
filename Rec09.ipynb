{
 "cells": [
  {
   "cell_type": "markdown",
   "metadata": {
    "colab_type": "text",
    "id": "wFv8jhZ0BtcY"
   },
   "source": [
    "# Welcome to Recitation 9!\n",
    "\n",
    "You will hand this recitation in with the homework on April 19.\n",
    "\n",
    "In this assignment, you will be making predictions based on time series data from a sales of a collection of consumer products from the company that sells Stovetop Stuffing. These products exhibit strong seasonal sales patterns.\n",
    "\n",
    "You'll be exposed to many different ways of making predictions and you'll get to see some of the drawbacks of each. You should be largely self-sufficient with python and pandas for data science by this point."
   ]
  },
  {
   "cell_type": "code",
   "execution_count": 1,
   "metadata": {
    "colab": {},
    "colab_type": "code",
    "id": "x1DReW-GBfTX"
   },
   "outputs": [],
   "source": [
    "import numpy as np\n",
    "import pandas as pd\n",
    "import matplotlib.pyplot as plt"
   ]
  },
  {
   "cell_type": "code",
   "execution_count": 2,
   "metadata": {
    "colab": {},
    "colab_type": "code",
    "id": "6gmWlYgOBfTi"
   },
   "outputs": [],
   "source": [
    "from datetime import datetime"
   ]
  },
  {
   "cell_type": "markdown",
   "metadata": {
    "colab_type": "text",
    "id": "wKlp8Mf7CgoN"
   },
   "source": [
    "## Part 1: Data"
   ]
  },
  {
   "cell_type": "markdown",
   "metadata": {
    "colab_type": "text",
    "id": "2wjtKKh5CxRY"
   },
   "source": [
    "1.1. Read in the SalesAndForecastsByLine.csv into a dataframe.  Then print some of the data to see what it looks like."
   ]
  },
  {
   "cell_type": "code",
   "execution_count": 3,
   "metadata": {
    "colab": {},
    "colab_type": "code",
    "id": "8qyi96KtBfTp"
   },
   "outputs": [
    {
     "data": {
      "text/html": [
       "<div>\n",
       "<style scoped>\n",
       "    .dataframe tbody tr th:only-of-type {\n",
       "        vertical-align: middle;\n",
       "    }\n",
       "\n",
       "    .dataframe tbody tr th {\n",
       "        vertical-align: top;\n",
       "    }\n",
       "\n",
       "    .dataframe thead th {\n",
       "        text-align: right;\n",
       "    }\n",
       "</style>\n",
       "<table border=\"1\" class=\"dataframe\">\n",
       "  <thead>\n",
       "    <tr style=\"text-align: right;\">\n",
       "      <th></th>\n",
       "      <th>LineNumber</th>\n",
       "      <th>Year</th>\n",
       "      <th>MonthNumber</th>\n",
       "      <th>TotalProductSales</th>\n",
       "    </tr>\n",
       "  </thead>\n",
       "  <tbody>\n",
       "    <tr>\n",
       "      <th>0</th>\n",
       "      <td>101</td>\n",
       "      <td>2000</td>\n",
       "      <td>4</td>\n",
       "      <td>14268</td>\n",
       "    </tr>\n",
       "    <tr>\n",
       "      <th>1</th>\n",
       "      <td>101</td>\n",
       "      <td>2000</td>\n",
       "      <td>5</td>\n",
       "      <td>32951</td>\n",
       "    </tr>\n",
       "    <tr>\n",
       "      <th>2</th>\n",
       "      <td>101</td>\n",
       "      <td>2000</td>\n",
       "      <td>6</td>\n",
       "      <td>65325</td>\n",
       "    </tr>\n",
       "    <tr>\n",
       "      <th>3</th>\n",
       "      <td>101</td>\n",
       "      <td>2000</td>\n",
       "      <td>7</td>\n",
       "      <td>38641</td>\n",
       "    </tr>\n",
       "    <tr>\n",
       "      <th>4</th>\n",
       "      <td>101</td>\n",
       "      <td>2000</td>\n",
       "      <td>8</td>\n",
       "      <td>60507</td>\n",
       "    </tr>\n",
       "  </tbody>\n",
       "</table>\n",
       "</div>"
      ],
      "text/plain": [
       "   LineNumber  Year  MonthNumber  TotalProductSales\n",
       "0         101  2000            4              14268\n",
       "1         101  2000            5              32951\n",
       "2         101  2000            6              65325\n",
       "3         101  2000            7              38641\n",
       "4         101  2000            8              60507"
      ]
     },
     "execution_count": 3,
     "metadata": {},
     "output_type": "execute_result"
    }
   ],
   "source": [
    "# YOUR CODE HERE\n",
    "df = pd.read_csv('SalesAndForecastsByLine.csv')\n",
    "df.head()"
   ]
  },
  {
   "cell_type": "markdown",
   "metadata": {
    "colab_type": "text",
    "id": "9tnF2xMVDD-V"
   },
   "source": [
    "1.2 Create a new column in the table called \"Date\".\n",
    "\n",
    "Fill this column with the dates as strings in the form month-year. For example May 2020 would be 5-2020. Print the data again to see if the column was created properly."
   ]
  },
  {
   "cell_type": "code",
   "execution_count": 4,
   "metadata": {
    "colab": {
     "base_uri": "https://localhost:8080/",
     "height": 221
    },
    "colab_type": "code",
    "executionInfo": {
     "elapsed": 424,
     "status": "ok",
     "timestamp": 1588955619865,
     "user": {
      "displayName": "Zaeem Rana",
      "photoUrl": "https://lh3.googleusercontent.com/a-/AOh14GgqvsyKIjE7K_gx0nrQU-86JpEmCfHYnaueQVTU=s64",
      "userId": "11030483233786659768"
     },
     "user_tz": 240
    },
    "id": "IVtcSvNsBfT_",
    "outputId": "fce860bf-7a61-423f-c3d9-a52eef3d1317"
   },
   "outputs": [
    {
     "data": {
      "text/html": [
       "<div>\n",
       "<style scoped>\n",
       "    .dataframe tbody tr th:only-of-type {\n",
       "        vertical-align: middle;\n",
       "    }\n",
       "\n",
       "    .dataframe tbody tr th {\n",
       "        vertical-align: top;\n",
       "    }\n",
       "\n",
       "    .dataframe thead th {\n",
       "        text-align: right;\n",
       "    }\n",
       "</style>\n",
       "<table border=\"1\" class=\"dataframe\">\n",
       "  <thead>\n",
       "    <tr style=\"text-align: right;\">\n",
       "      <th></th>\n",
       "      <th>LineNumber</th>\n",
       "      <th>Year</th>\n",
       "      <th>MonthNumber</th>\n",
       "      <th>TotalProductSales</th>\n",
       "      <th>Date</th>\n",
       "    </tr>\n",
       "  </thead>\n",
       "  <tbody>\n",
       "    <tr>\n",
       "      <th>0</th>\n",
       "      <td>101</td>\n",
       "      <td>2000</td>\n",
       "      <td>4</td>\n",
       "      <td>14268</td>\n",
       "      <td>4-2000</td>\n",
       "    </tr>\n",
       "    <tr>\n",
       "      <th>1</th>\n",
       "      <td>101</td>\n",
       "      <td>2000</td>\n",
       "      <td>5</td>\n",
       "      <td>32951</td>\n",
       "      <td>5-2000</td>\n",
       "    </tr>\n",
       "    <tr>\n",
       "      <th>2</th>\n",
       "      <td>101</td>\n",
       "      <td>2000</td>\n",
       "      <td>6</td>\n",
       "      <td>65325</td>\n",
       "      <td>6-2000</td>\n",
       "    </tr>\n",
       "    <tr>\n",
       "      <th>3</th>\n",
       "      <td>101</td>\n",
       "      <td>2000</td>\n",
       "      <td>7</td>\n",
       "      <td>38641</td>\n",
       "      <td>7-2000</td>\n",
       "    </tr>\n",
       "    <tr>\n",
       "      <th>4</th>\n",
       "      <td>101</td>\n",
       "      <td>2000</td>\n",
       "      <td>8</td>\n",
       "      <td>60507</td>\n",
       "      <td>8-2000</td>\n",
       "    </tr>\n",
       "  </tbody>\n",
       "</table>\n",
       "</div>"
      ],
      "text/plain": [
       "   LineNumber  Year  MonthNumber  TotalProductSales    Date\n",
       "0         101  2000            4              14268  4-2000\n",
       "1         101  2000            5              32951  5-2000\n",
       "2         101  2000            6              65325  6-2000\n",
       "3         101  2000            7              38641  7-2000\n",
       "4         101  2000            8              60507  8-2000"
      ]
     },
     "execution_count": 4,
     "metadata": {},
     "output_type": "execute_result"
    }
   ],
   "source": [
    "# YOUR CODE HERE\n",
    "df[\"Date\"] = 0\n",
    "for index, row in df.iterrows():\n",
    "    df.loc[index, \"Date\"] = str(row[\"MonthNumber\"]) + '-' + str(row[\"Year\"]) \n",
    "df.head()"
   ]
  },
  {
   "cell_type": "markdown",
   "metadata": {
    "colab_type": "text",
    "id": "Lcc2-8vFD9sO"
   },
   "source": [
    "1.3 Now create a column in your dataframe that contains each date in the Date field in your dataframe (which is a string) converted to the datetime type. `datetime` is the datatype that Pandas uses to store dates and it is very helpful when plotting quantities versus date or time. \n",
    "\n",
    "One way to do this is with `iterrows()`, as in the following example code:\n",
    "\n",
    "```\n",
    "for index, row in df.iterrows():\n",
    "    df.loc[index,'t'] = # calculate value from row['Date']\n",
    "```\n",
    "\n",
    "There are other ways as well. Once you are done, output some rows from the dataframe again to make sure that you are computing your datetime field correctly.\n",
    "\n",
    "Hint: Use the strptime from the datetime module. Documentation can be found here: https://docs.python.org/3/library/datetime.html#strftime-strptime-behavior.  the strptime function will parse string arguments into datetime objects, based on the format that you provide.  If you have a string stored in a variable called `date` in a format where 5-2020 represents May 2020, then calling `datetime.strptime(date,'%m-%Y')` will return a datetime object representing May 2020."
   ]
  },
  {
   "cell_type": "code",
   "execution_count": 5,
   "metadata": {},
   "outputs": [
    {
     "data": {
      "text/html": [
       "<div>\n",
       "<style scoped>\n",
       "    .dataframe tbody tr th:only-of-type {\n",
       "        vertical-align: middle;\n",
       "    }\n",
       "\n",
       "    .dataframe tbody tr th {\n",
       "        vertical-align: top;\n",
       "    }\n",
       "\n",
       "    .dataframe thead th {\n",
       "        text-align: right;\n",
       "    }\n",
       "</style>\n",
       "<table border=\"1\" class=\"dataframe\">\n",
       "  <thead>\n",
       "    <tr style=\"text-align: right;\">\n",
       "      <th></th>\n",
       "      <th>LineNumber</th>\n",
       "      <th>Year</th>\n",
       "      <th>MonthNumber</th>\n",
       "      <th>TotalProductSales</th>\n",
       "      <th>Date</th>\n",
       "      <th>Datetime</th>\n",
       "    </tr>\n",
       "  </thead>\n",
       "  <tbody>\n",
       "    <tr>\n",
       "      <th>0</th>\n",
       "      <td>101</td>\n",
       "      <td>2000</td>\n",
       "      <td>4</td>\n",
       "      <td>14268</td>\n",
       "      <td>4-2000</td>\n",
       "      <td>2000-04-01 00:00:00</td>\n",
       "    </tr>\n",
       "    <tr>\n",
       "      <th>1</th>\n",
       "      <td>101</td>\n",
       "      <td>2000</td>\n",
       "      <td>5</td>\n",
       "      <td>32951</td>\n",
       "      <td>5-2000</td>\n",
       "      <td>2000-05-01 00:00:00</td>\n",
       "    </tr>\n",
       "    <tr>\n",
       "      <th>2</th>\n",
       "      <td>101</td>\n",
       "      <td>2000</td>\n",
       "      <td>6</td>\n",
       "      <td>65325</td>\n",
       "      <td>6-2000</td>\n",
       "      <td>2000-06-01 00:00:00</td>\n",
       "    </tr>\n",
       "    <tr>\n",
       "      <th>3</th>\n",
       "      <td>101</td>\n",
       "      <td>2000</td>\n",
       "      <td>7</td>\n",
       "      <td>38641</td>\n",
       "      <td>7-2000</td>\n",
       "      <td>2000-07-01 00:00:00</td>\n",
       "    </tr>\n",
       "    <tr>\n",
       "      <th>4</th>\n",
       "      <td>101</td>\n",
       "      <td>2000</td>\n",
       "      <td>8</td>\n",
       "      <td>60507</td>\n",
       "      <td>8-2000</td>\n",
       "      <td>2000-08-01 00:00:00</td>\n",
       "    </tr>\n",
       "  </tbody>\n",
       "</table>\n",
       "</div>"
      ],
      "text/plain": [
       "   LineNumber  Year  MonthNumber  TotalProductSales    Date  \\\n",
       "0         101  2000            4              14268  4-2000   \n",
       "1         101  2000            5              32951  5-2000   \n",
       "2         101  2000            6              65325  6-2000   \n",
       "3         101  2000            7              38641  7-2000   \n",
       "4         101  2000            8              60507  8-2000   \n",
       "\n",
       "              Datetime  \n",
       "0  2000-04-01 00:00:00  \n",
       "1  2000-05-01 00:00:00  \n",
       "2  2000-06-01 00:00:00  \n",
       "3  2000-07-01 00:00:00  \n",
       "4  2000-08-01 00:00:00  "
      ]
     },
     "execution_count": 5,
     "metadata": {},
     "output_type": "execute_result"
    }
   ],
   "source": [
    "# YOUR CODE HERE\n",
    "df[\"Datetime\"] = 0\n",
    "for index, row in df.iterrows():\n",
    "    df.loc[index,'Datetime'] = datetime.strptime(row['Date'],'%m-%Y')\n",
    "df.head()"
   ]
  },
  {
   "cell_type": "markdown",
   "metadata": {
    "colab_type": "text",
    "id": "UrhMPdMjDpoD"
   },
   "source": [
    "1.4 Now create 5 different dataframes, one for each of the product line numbers, by filtering on the `LineNumber` field.\n",
    "\n",
    "Then plot `TotalProductSales` vs. date (using your new datetime field) for each of the 5 product lines.  Put them all on one plot. This can be accomplished by calling plt.plot for each of the 5 dataframes all in 1 cell. matplotlib should figure out on its own to use different colors for each."
   ]
  },
  {
   "cell_type": "code",
   "execution_count": 6,
   "metadata": {
    "colab": {},
    "colab_type": "code",
    "id": "aJ0ye7DGBfUQ"
   },
   "outputs": [],
   "source": [
    "# YOUR CODE HERE\n",
    "df_101 = df[df[\"LineNumber\"] == 101]\n",
    "df_102 = df[df[\"LineNumber\"] == 102]\n",
    "df_103 = df[df[\"LineNumber\"] == 103]\n",
    "df_104 = df[df[\"LineNumber\"] == 104]\n",
    "df_105 = df[df[\"LineNumber\"] == 105]"
   ]
  },
  {
   "cell_type": "code",
   "execution_count": 7,
   "metadata": {},
   "outputs": [
    {
     "name": "stderr",
     "output_type": "stream",
     "text": [
      "C:\\Users\\bls24\\Anaconda3\\lib\\site-packages\\pandas\\plotting\\_converter.py:129: FutureWarning: Using an implicitly registered datetime converter for a matplotlib plotting method. The converter was registered by pandas on import. Future versions of pandas will require you to explicitly register matplotlib converters.\n",
      "\n",
      "To register the converters:\n",
      "\t>>> from pandas.plotting import register_matplotlib_converters\n",
      "\t>>> register_matplotlib_converters()\n",
      "  warnings.warn(msg, FutureWarning)\n"
     ]
    },
    {
     "data": {
      "text/plain": [
       "[<matplotlib.lines.Line2D at 0x1fdd8c5f080>]"
      ]
     },
     "execution_count": 7,
     "metadata": {},
     "output_type": "execute_result"
    },
    {
     "data": {
      "image/png": "[encoded data removed]",
      "text/plain": [
       "<Figure size 720x360 with 1 Axes>"
      ]
     },
     "metadata": {
      "needs_background": "light"
     },
     "output_type": "display_data"
    }
   ],
   "source": [
    "plt.figure(figsize=(10,5))\n",
    "plt.plot(df_101[\"Datetime\"], df_101[\"TotalProductSales\"])\n",
    "plt.plot(df_102[\"Datetime\"], df_102[\"TotalProductSales\"])\n",
    "plt.plot(df_103[\"Datetime\"], df_103[\"TotalProductSales\"])\n",
    "plt.plot(df_104[\"Datetime\"], df_104[\"TotalProductSales\"])\n",
    "plt.plot(df_105[\"Datetime\"], df_105[\"TotalProductSales\"])\n",
    "#plt.xlim('2001-04','2001-12')"
   ]
  },
  {
   "cell_type": "markdown",
   "metadata": {},
   "source": [
    "1.5 What times of year are particularly busy for these products?  You may find that you need to expand the size of your graph to see the dates.  You can do this with the code `plt.figure(figsize=(10,5))` run in the same cell and before any `plt.plot` commands.  You can also zoom in to particular regions of the figure using `plt.xlim`.  For example, `plt.xlim('2000-04','2000-12')` zooms in to April to December 2000."
   ]
  },
  {
   "cell_type": "markdown",
   "metadata": {},
   "source": [
    "**The months of September and November are particularly busy for these products**"
   ]
  },
  {
   "cell_type": "markdown",
   "metadata": {
    "colab_type": "text",
    "id": "6PiT2J9dEWJm"
   },
   "source": [
    "## Part 2: Linear Fit"
   ]
  },
  {
   "cell_type": "markdown",
   "metadata": {
    "colab_type": "text",
    "id": "W6h84PM2EZ_K"
   },
   "source": [
    "We use statsmodels.api to fit the data using ordinary least squares (OLS)."
   ]
  },
  {
   "cell_type": "code",
   "execution_count": 9,
   "metadata": {
    "colab": {
     "base_uri": "https://localhost:8080/",
     "height": 70
    },
    "colab_type": "code",
    "executionInfo": {
     "elapsed": 1540,
     "status": "ok",
     "timestamp": 1588621714842,
     "user": {
      "displayName": "Jenny Cao",
      "photoUrl": "",
      "userId": "01180664302881281385"
     },
     "user_tz": 240
    },
    "id": "6faD_ncCBfUr",
    "outputId": "1e66ec0e-2434-4ed8-82fa-84afbddce065"
   },
   "outputs": [],
   "source": [
    "import statsmodels.api as sm"
   ]
  },
  {
   "cell_type": "markdown",
   "metadata": {
    "colab_type": "text",
    "id": "PhvCp87gEg_G"
   },
   "source": [
    "2.1. Fit OLS on the data for product line 102. Use the sales data as your outcome y.  Include an intercept. We will use an integer that increments by 1 each month as our single predictor. \n",
    "\n",
    "To quickly get this integer, first use the code `df2_linear = df2.reset_index()`, where this assumes that `df2` is the name of the dataframe containing data for product line 102. This creates a dataframe that contains an additional column, `index`, that contains a sequence of integers. This relies on the fact that our dataframe had data for product line 102 in increasing time order.\n",
    "\n",
    "Then call `summary()` to see the results of your fit."
   ]
  },
  {
   "cell_type": "code",
   "execution_count": 12,
   "metadata": {
    "colab": {},
    "colab_type": "code",
    "id": "IZReSz7JBfUy"
   },
   "outputs": [
    {
     "data": {
      "text/html": [
       "<table class=\"simpletable\">\n",
       "<caption>OLS Regression Results</caption>\n",
       "<tr>\n",
       "  <th>Dep. Variable:</th>    <td>TotalProductSales</td> <th>  R-squared:         </th> <td>   0.016</td>\n",
       "</tr>\n",
       "<tr>\n",
       "  <th>Model:</th>                   <td>OLS</td>        <th>  Adj. R-squared:    </th> <td>  -0.013</td>\n",
       "</tr>\n",
       "<tr>\n",
       "  <th>Method:</th>             <td>Least Squares</td>   <th>  F-statistic:       </th> <td>  0.5627</td>\n",
       "</tr>\n",
       "<tr>\n",
       "  <th>Date:</th>             <td>Sun, 18 Apr 2021</td>  <th>  Prob (F-statistic):</th>  <td> 0.458</td> \n",
       "</tr>\n",
       "<tr>\n",
       "  <th>Time:</th>                 <td>18:23:59</td>      <th>  Log-Likelihood:    </th> <td> -462.57</td>\n",
       "</tr>\n",
       "<tr>\n",
       "  <th>No. Observations:</th>      <td>    36</td>       <th>  AIC:               </th> <td>   929.1</td>\n",
       "</tr>\n",
       "<tr>\n",
       "  <th>Df Residuals:</th>          <td>    34</td>       <th>  BIC:               </th> <td>   932.3</td>\n",
       "</tr>\n",
       "<tr>\n",
       "  <th>Df Model:</th>              <td>     1</td>       <th>                     </th>     <td> </td>   \n",
       "</tr>\n",
       "<tr>\n",
       "  <th>Covariance Type:</th>      <td>nonrobust</td>     <th>                     </th>     <td> </td>   \n",
       "</tr>\n",
       "</table>\n",
       "<table class=\"simpletable\">\n",
       "<tr>\n",
       "    <td></td>       <th>coef</th>     <th>std err</th>      <th>t</th>      <th>P>|t|</th>  <th>[0.025</th>    <th>0.975]</th>  \n",
       "</tr>\n",
       "<tr>\n",
       "  <th>const</th> <td> 5.535e+04</td> <td> 8.28e+04</td> <td>    0.668</td> <td> 0.508</td> <td>-1.13e+05</td> <td> 2.24e+05</td>\n",
       "</tr>\n",
       "<tr>\n",
       "  <th>index</th> <td> 1140.1140</td> <td> 1519.836</td> <td>    0.750</td> <td> 0.458</td> <td>-1948.564</td> <td> 4228.792</td>\n",
       "</tr>\n",
       "</table>\n",
       "<table class=\"simpletable\">\n",
       "<tr>\n",
       "  <th>Omnibus:</th>       <td> 7.635</td> <th>  Durbin-Watson:     </th> <td>   1.332</td>\n",
       "</tr>\n",
       "<tr>\n",
       "  <th>Prob(Omnibus):</th> <td> 0.022</td> <th>  Jarque-Bera (JB):  </th> <td>   6.652</td>\n",
       "</tr>\n",
       "<tr>\n",
       "  <th>Skew:</th>          <td> 1.034</td> <th>  Prob(JB):          </th> <td>  0.0359</td>\n",
       "</tr>\n",
       "<tr>\n",
       "  <th>Kurtosis:</th>      <td> 3.396</td> <th>  Cond. No.          </th> <td>    286.</td>\n",
       "</tr>\n",
       "</table><br/><br/>Warnings:<br/>[1] Standard Errors assume that the covariance matrix of the errors is correctly specified."
      ],
      "text/plain": [
       "<class 'statsmodels.iolib.summary.Summary'>\n",
       "\"\"\"\n",
       "                            OLS Regression Results                            \n",
       "==============================================================================\n",
       "Dep. Variable:      TotalProductSales   R-squared:                       0.016\n",
       "Model:                            OLS   Adj. R-squared:                 -0.013\n",
       "Method:                 Least Squares   F-statistic:                    0.5627\n",
       "Date:                Sun, 18 Apr 2021   Prob (F-statistic):              0.458\n",
       "Time:                        18:23:59   Log-Likelihood:                -462.57\n",
       "No. Observations:                  36   AIC:                             929.1\n",
       "Df Residuals:                      34   BIC:                             932.3\n",
       "Df Model:                           1                                         \n",
       "Covariance Type:            nonrobust                                         \n",
       "==============================================================================\n",
       "                 coef    std err          t      P>|t|      [0.025      0.975]\n",
       "------------------------------------------------------------------------------\n",
       "const       5.535e+04   8.28e+04      0.668      0.508   -1.13e+05    2.24e+05\n",
       "index       1140.1140   1519.836      0.750      0.458   -1948.564    4228.792\n",
       "==============================================================================\n",
       "Omnibus:                        7.635   Durbin-Watson:                   1.332\n",
       "Prob(Omnibus):                  0.022   Jarque-Bera (JB):                6.652\n",
       "Skew:                           1.034   Prob(JB):                       0.0359\n",
       "Kurtosis:                       3.396   Cond. No.                         286.\n",
       "==============================================================================\n",
       "\n",
       "Warnings:\n",
       "[1] Standard Errors assume that the covariance matrix of the errors is correctly specified.\n",
       "\"\"\""
      ]
     },
     "execution_count": 12,
     "metadata": {},
     "output_type": "execute_result"
    }
   ],
   "source": [
    "# YOUR CODE HERE\n",
    "X = df_102.reset_index()[\"index\"]\n",
    "Y = df_102.reset_index()[\"TotalProductSales\"]\n",
    "X = sm.add_constant(X)\n",
    "model = sm.OLS(Y,X).fit()\n",
    "model.summary()"
   ]
  },
  {
   "cell_type": "markdown",
   "metadata": {
    "colab_type": "text",
    "id": "bMwRm9h2FCY0"
   },
   "source": [
    "2.2: Plot the predictions from linear regression and your data (TotalProductSales) for product line 101."
   ]
  },
  {
   "cell_type": "code",
   "execution_count": 13,
   "metadata": {
    "colab": {
     "base_uri": "https://localhost:8080/",
     "height": 320
    },
    "colab_type": "code",
    "executionInfo": {
     "elapsed": 538,
     "status": "ok",
     "timestamp": 1588621722567,
     "user": {
      "displayName": "Jenny Cao",
      "photoUrl": "",
      "userId": "01180664302881281385"
     },
     "user_tz": 240
    },
    "id": "CAiN3I_5BfVM",
    "outputId": "b760e639-3ebf-4c09-8014-077709be764b"
   },
   "outputs": [
    {
     "data": {
      "text/plain": [
       "[<matplotlib.lines.Line2D at 0x1fddb5a2128>]"
      ]
     },
     "execution_count": 13,
     "metadata": {},
     "output_type": "execute_result"
    },
    {
     "data": {
      "image/png": "[encoded data removed]",
      "text/plain": [
       "<Figure size 432x288 with 1 Axes>"
      ]
     },
     "metadata": {
      "needs_background": "light"
     },
     "output_type": "display_data"
    }
   ],
   "source": [
    "# YOUR CODE HERE\n",
    "X_101 = df_101.reset_index()[\"index\"]\n",
    "X_101 = sm.add_constant(X_101)\n",
    "prediction = model.predict(X_101)\n",
    "plt.plot(df_101[\"Datetime\"],prediction)\n",
    "plt.plot(df_101[\"Datetime\"], df_101[\"TotalProductSales\"])"
   ]
  },
  {
   "cell_type": "markdown",
   "metadata": {
    "colab_type": "text",
    "id": "dYUMQLesFjTs"
   },
   "source": [
    "2.3 What are some drawbacks of this method?"
   ]
  },
  {
   "cell_type": "markdown",
   "metadata": {
    "colab_type": "text",
    "id": "k83SqZRVGVFI"
   },
   "source": [
    "**This linear model does not represent the cyclical nature of annual sales for this product.**"
   ]
  },
  {
   "cell_type": "markdown",
   "metadata": {},
   "source": [
    "2.4 Calculate the sum of squared errors resulting from this method. To do this, calculate a series containing the difference between the actual and predicted values. Then calculate the square of each component of this series.  Then sum the values. You should be able to do this in a single line of code.\n",
    "\n",
    "Given a series `x`, the series `x.pow(2)` contains the square of each element of `x`."
   ]
  },
  {
   "cell_type": "code",
   "execution_count": 14,
   "metadata": {},
   "outputs": [
    {
     "name": "stderr",
     "output_type": "stream",
     "text": [
      "C:\\Users\\bls24\\Anaconda3\\lib\\site-packages\\ipykernel_launcher.py:3: SettingWithCopyWarning: \n",
      "A value is trying to be set on a copy of a slice from a DataFrame.\n",
      "Try using .loc[row_indexer,col_indexer] = value instead\n",
      "\n",
      "See the caveats in the documentation: http://pandas.pydata.org/pandas-docs/stable/indexing.html#indexing-view-versus-copy\n",
      "  This is separate from the ipykernel package so we can avoid doing imports until\n"
     ]
    },
    {
     "data": {
      "text/plain": [
       "522272070492.4952"
      ]
     },
     "execution_count": 14,
     "metadata": {},
     "output_type": "execute_result"
    }
   ],
   "source": [
    "# YOUR CODE HERE\n",
    "frame = pd.DataFrame()\n",
    "df_101['difference'] = df_101[\"TotalProductSales\"] - prediction \n",
    "series = df_101[\"difference\"].pow(2)\n",
    "series.sum()"
   ]
  },
  {
   "cell_type": "markdown",
   "metadata": {
    "colab_type": "text",
    "id": "7rggyhJNHJB6"
   },
   "source": [
    "## Part 3: Exponential Smoothing"
   ]
  },
  {
   "cell_type": "markdown",
   "metadata": {
    "colab_type": "text",
    "id": "46s6bs9IHmF6"
   },
   "source": [
    "We now use simple exponential smoothing to predict, now using product line 102. This assumes that the data has no consistent trend and consists only of a mean that slowly varies up and down and has noise added to it."
   ]
  },
  {
   "cell_type": "code",
   "execution_count": 15,
   "metadata": {
    "colab": {},
    "colab_type": "code",
    "id": "9bGgMgTrBfVk"
   },
   "outputs": [],
   "source": [
    "from statsmodels.tsa.api import SimpleExpSmoothing"
   ]
  },
  {
   "cell_type": "markdown",
   "metadata": {},
   "source": [
    "3.1: To use simple exponential smoothing, we need to create a Series containing TotalProductSales for product line 102 that has our datetime object as the index.  The easiest way to do this is to create a new dataframe using  set_index() and then extract the `TotalProductSales` field from this dataframe.  Name the resulting Series `sales2`."
   ]
  },
  {
   "cell_type": "code",
   "execution_count": 16,
   "metadata": {},
   "outputs": [],
   "source": [
    "# YOUR CODE HERE\n",
    "df_sales2 = df_102.set_index(\"Datetime\")\n",
    "sales2 = df_sales2[\"TotalProductSales\"]"
   ]
  },
  {
   "cell_type": "markdown",
   "metadata": {
    "colab_type": "text",
    "id": "VCUA7X-XHx8S"
   },
   "source": [
    "Then, the following line of code creates a simple exponential fit for the data.\n",
    "\n",
    "The code will say that \"No frequency information was provided, so inferred frequency MS will be used.\" This is ok -- it just means that we didn't tell SimpleExpSmoothing about a period over which we might expect to see repeating patterns."
   ]
  },
  {
   "cell_type": "code",
   "execution_count": 17,
   "metadata": {
    "colab": {
     "base_uri": "https://localhost:8080/",
     "height": 70
    },
    "colab_type": "code",
    "executionInfo": {
     "elapsed": 294,
     "status": "ok",
     "timestamp": 1588621755076,
     "user": {
      "displayName": "Jenny Cao",
      "photoUrl": "",
      "userId": "01180664302881281385"
     },
     "user_tz": 240
    },
    "id": "dZ58FiAGBfVt",
    "outputId": "72707dd7-fa45-4974-915b-09dd02e14e2c"
   },
   "outputs": [
    {
     "name": "stderr",
     "output_type": "stream",
     "text": [
      "C:\\Users\\bls24\\Anaconda3\\lib\\site-packages\\statsmodels\\tsa\\base\\tsa_model.py:165: ValueWarning: No frequency information was provided, so inferred frequency MS will be used.\n",
      "  % freq, ValueWarning)\n"
     ]
    }
   ],
   "source": [
    "fit1 = SimpleExpSmoothing(sales2.astype(np.float)).fit()"
   ]
  },
  {
   "cell_type": "markdown",
   "metadata": {
    "colab_type": "text",
    "id": "FZI4GXmZH7Bb"
   },
   "source": [
    "Then, the following code gets a forecast for the next 4 upcoming periods."
   ]
  },
  {
   "cell_type": "code",
   "execution_count": 18,
   "metadata": {
    "colab": {},
    "colab_type": "code",
    "id": "cw2xZZj5BfVy"
   },
   "outputs": [
    {
     "data": {
      "text/plain": [
       "2003-04-01    73041.79019\n",
       "2003-05-01    73041.79019\n",
       "2003-06-01    73041.79019\n",
       "2003-07-01    73041.79019\n",
       "Freq: MS, dtype: float64"
      ]
     },
     "execution_count": 18,
     "metadata": {},
     "output_type": "execute_result"
    }
   ],
   "source": [
    "fore1 = fit1.forecast(4)\n",
    "fore1"
   ]
  },
  {
   "cell_type": "markdown",
   "metadata": {
    "colab_type": "text",
    "id": "gx5MM7iNIU7B"
   },
   "source": [
    "3.2: Plot the values fitted to our original timeseries, the original sales data for line 102, and the forecasted values.  The fitted values are in `fit1.fittedvalues`. The forecasted values can be plotted using `fore1.plot()`."
   ]
  },
  {
   "cell_type": "code",
   "execution_count": 84,
   "metadata": {
    "colab": {
     "base_uri": "https://localhost:8080/",
     "height": 312
    },
    "colab_type": "code",
    "executionInfo": {
     "elapsed": 548,
     "status": "ok",
     "timestamp": 1588621759078,
     "user": {
      "displayName": "Jenny Cao",
      "photoUrl": "",
      "userId": "01180664302881281385"
     },
     "user_tz": 240
    },
    "id": "iO2bNm5aIK-1",
    "outputId": "429f2d1f-5ba7-43a3-8333-14a073001169"
   },
   "outputs": [
    {
     "data": {
      "text/plain": [
       "<matplotlib.axes._subplots.AxesSubplot at 0x1fddbef6e80>"
      ]
     },
     "execution_count": 84,
     "metadata": {},
     "output_type": "execute_result"
    },
    {
     "data": {
      "image/png": "[encoded data removed]",
      "text/plain": [
       "<Figure size 720x360 with 1 Axes>"
      ]
     },
     "metadata": {
      "needs_background": "light"
     },
     "output_type": "display_data"
    }
   ],
   "source": [
    "# YOUR CODE HERE\n",
    "plt.figure(figsize=(10,5))\n",
    "plt.plot(df_102[\"Datetime\"],df_102[\"TotalProductSales\"])\n",
    "plt.plot(df_102[\"Datetime\"],fit1.fittedvalues)\n",
    "fore1.plot()"
   ]
  },
  {
   "cell_type": "markdown",
   "metadata": {},
   "source": [
    "3.3 Calculate the sum of squared errors between this method's predictions and the actual value."
   ]
  },
  {
   "cell_type": "code",
   "execution_count": 36,
   "metadata": {},
   "outputs": [
    {
     "data": {
      "text/plain": [
       "355327812319.925"
      ]
     },
     "execution_count": 36,
     "metadata": {},
     "output_type": "execute_result"
    }
   ],
   "source": [
    "# YOUR CODE HERE\n",
    "sse = 0\n",
    "for i in range(len(sales2)):\n",
    "    sse += (fit1.fittedvalues[i] - sales2[i])**2\n",
    "sse"
   ]
  },
  {
   "cell_type": "markdown",
   "metadata": {
    "colab_type": "text",
    "id": "nl2I3gOVI88O"
   },
   "source": [
    "3.4: Based on the sum of squared errors, is this method better or worse than linear regression?"
   ]
  },
  {
   "cell_type": "markdown",
   "metadata": {
    "colab_type": "text",
    "id": "7AyMPMCAJNQ1"
   },
   "source": [
    "**This method is much better than linear regression given that the sse is significantly lower than the sse of the linear regression**"
   ]
  },
  {
   "cell_type": "markdown",
   "metadata": {
    "colab_type": "text",
    "id": "d-5NHBkHJPJV"
   },
   "source": [
    "3.5: Where does this method do particularly badly? How does this relate to your answer to question 1.5?"
   ]
  },
  {
   "cell_type": "markdown",
   "metadata": {
    "colab_type": "text",
    "id": "6NsJpdMeJRFZ"
   },
   "source": [
    "**This method doesnt do a great job of predicting the full extend of the large seasonal spike in product sales in September and November, as discussed in question 1.5**"
   ]
  },
  {
   "cell_type": "markdown",
   "metadata": {
    "colab_type": "text",
    "id": "EAWKJTM_IZ8D"
   },
   "source": [
    "## Part 4: Holt Linear"
   ]
  },
  {
   "cell_type": "markdown",
   "metadata": {
    "colab_type": "text",
    "id": "9LYKericIgeW"
   },
   "source": [
    "Now we will fit this same data using the `Holt` method.  We import the package `Holt` for this part and `ExponentialSmoothing` (also called the Holt-Winters method) for the next part.\n",
    "\n",
    "The Holt method assumes that the data has a trend and that the slope of the trend is slowly varying over time. It also assumes that there is an additional change to the overall mean that is slowly shifting everything up and down, and that the observations have noise. \n",
    "\n",
    "This method is able to make predictions that have the same form as simple exponential smoothing, and also the same form as linear regression, as two special cases."
   ]
  },
  {
   "cell_type": "code",
   "execution_count": 38,
   "metadata": {
    "colab": {},
    "colab_type": "code",
    "id": "uBSXy56LBfV7"
   },
   "outputs": [],
   "source": [
    "## Holt Double Exponential Linear\n",
    "from statsmodels.tsa.holtwinters import Holt, ExponentialSmoothing"
   ]
  },
  {
   "cell_type": "markdown",
   "metadata": {
    "colab_type": "text",
    "id": "xyLjx_grIqbe"
   },
   "source": [
    "4.1: Fit the Holt method on the data series created for the previous part and generate a forecast for the next 5 values. Above we used the code \n",
    "```\n",
    "fit1 = SimpleExpSmoothing(sales2).fit()\n",
    "fore1 = fit1.forecast(4)\n",
    "```\n",
    "to fit simple exponential smoothing and forecast for 4 values. The code for the Holt method is similar, except we replace `SimpleExpSmoothing` by `Holt`, and we forecast for 5 values instead of 4."
   ]
  },
  {
   "cell_type": "code",
   "execution_count": 66,
   "metadata": {
    "colab": {
     "base_uri": "https://localhost:8080/",
     "height": 70
    },
    "colab_type": "code",
    "executionInfo": {
     "elapsed": 360,
     "status": "ok",
     "timestamp": 1588621779195,
     "user": {
      "displayName": "Jenny Cao",
      "photoUrl": "",
      "userId": "01180664302881281385"
     },
     "user_tz": 240
    },
    "id": "MitpjBxrBfWB",
    "outputId": "a2981334-a56e-4224-fe96-89ca12ea2278"
   },
   "outputs": [
    {
     "name": "stderr",
     "output_type": "stream",
     "text": [
      "C:\\Users\\bls24\\Anaconda3\\lib\\site-packages\\statsmodels\\tsa\\base\\tsa_model.py:165: ValueWarning: No frequency information was provided, so inferred frequency MS will be used.\n",
      "  % freq, ValueWarning)\n"
     ]
    },
    {
     "data": {
      "text/plain": [
       "2003-04-01    70833.847829\n",
       "2003-05-01    72288.810377\n",
       "2003-06-01    73743.772925\n",
       "2003-07-01    75198.735474\n",
       "2003-08-01    76653.698022\n",
       "Freq: MS, dtype: float64"
      ]
     },
     "execution_count": 66,
     "metadata": {},
     "output_type": "execute_result"
    }
   ],
   "source": [
    "# YOUR CODE HERE\n",
    "fit2 = Holt(sales2.astype(np.float)).fit()\n",
    "fore2 = fit2.forecast(5)\n",
    "fore2"
   ]
  },
  {
   "cell_type": "markdown",
   "metadata": {
    "colab_type": "text",
    "id": "MnHTNRuKI0Oe"
   },
   "source": [
    "4.2: Now plot the forecast, fitted values, and orignal sales data. We use "
   ]
  },
  {
   "cell_type": "code",
   "execution_count": 64,
   "metadata": {},
   "outputs": [
    {
     "name": "stdout",
     "output_type": "stream",
     "text": [
      "2003-03-01 00:00:00\n"
     ]
    },
    {
     "data": {
      "text/plain": [
       "[datetime.datetime(2003, 3, 1, 0, 0),\n",
       " datetime.datetime(2003, 4, 1, 0, 0),\n",
       " datetime.datetime(2003, 5, 2, 0, 0),\n",
       " datetime.datetime(2003, 6, 2, 0, 0),\n",
       " datetime.datetime(2003, 7, 3, 0, 0)]"
      ]
     },
     "execution_count": 64,
     "metadata": {},
     "output_type": "execute_result"
    }
   ],
   "source": [
    "import datetime\n",
    "last_date = 1\n",
    "for i in df_102[\"Datetime\"]:\n",
    "    last_date = i\n",
    "print(last_date)\n",
    "forcast_dates = []\n",
    "for i in range(5):\n",
    "    forcast_dates.append(last_date + datetime.timedelta(days=(31*i)))\n",
    "forcast_dates"
   ]
  },
  {
   "cell_type": "code",
   "execution_count": 65,
   "metadata": {
    "colab": {
     "base_uri": "https://localhost:8080/",
     "height": 312
    },
    "colab_type": "code",
    "executionInfo": {
     "elapsed": 474,
     "status": "ok",
     "timestamp": 1588621783872,
     "user": {
      "displayName": "Jenny Cao",
      "photoUrl": "",
      "userId": "01180664302881281385"
     },
     "user_tz": 240
    },
    "id": "lvWyJ9OpBfWM",
    "outputId": "ddf35519-11c2-420c-f75e-7222cbe72b3f"
   },
   "outputs": [
    {
     "data": {
      "text/plain": [
       "[<matplotlib.lines.Line2D at 0x1fddbdeacf8>]"
      ]
     },
     "execution_count": 65,
     "metadata": {},
     "output_type": "execute_result"
    },
    {
     "data": {
      "image/png": "[encoded data removed]",
      "text/plain": [
       "<Figure size 720x360 with 1 Axes>"
      ]
     },
     "metadata": {
      "needs_background": "light"
     },
     "output_type": "display_data"
    }
   ],
   "source": [
    "# YOUR CODE HERE\n",
    "plt.figure(figsize=(10,5))\n",
    "plt.plot(df_102[\"Datetime\"],df_102[\"TotalProductSales\"], label = 'original data')\n",
    "plt.plot(df_102[\"Datetime\"],fit2.fittedvalues, label='fitted values')\n",
    "plt.plot(forcast_dates,fore2, label='forcast')"
   ]
  },
  {
   "cell_type": "markdown",
   "metadata": {},
   "source": [
    "4.3 Calculate the sum of square errors between this method's predictions and the actual value."
   ]
  },
  {
   "cell_type": "code",
   "execution_count": 69,
   "metadata": {},
   "outputs": [
    {
     "data": {
      "text/plain": [
       "356141776567.1156"
      ]
     },
     "execution_count": 69,
     "metadata": {},
     "output_type": "execute_result"
    }
   ],
   "source": [
    "# YOUR CODE HERE\n",
    "sse = 0\n",
    "for i in range(len(sales2)):\n",
    "    sse += (fit2.fittedvalues[i] - sales2[i])**2\n",
    "sse"
   ]
  },
  {
   "cell_type": "markdown",
   "metadata": {
    "colab_type": "text",
    "id": "H1RjBjuvJcEo"
   },
   "source": [
    "4.4 How does the sum of squared errors for this method compare to simple exponential smoothing?  To linear regression? Why do you think this is?"
   ]
  },
  {
   "cell_type": "markdown",
   "metadata": {
    "colab_type": "text",
    "id": "tYQ1sWJeJt4E"
   },
   "source": [
    "**The sse of the holt method is slightly larger than the sse of simple exponential smoothing and much lower than the sse of the linear regression. This might be the case because simple exponential smoothing takes into account the seasonal cycles of the data for the fit.**"
   ]
  },
  {
   "cell_type": "markdown",
   "metadata": {
    "colab_type": "text",
    "id": "uAyYTc2wJwCg"
   },
   "source": [
    "## Part 5: Holt-Winters Method"
   ]
  },
  {
   "cell_type": "markdown",
   "metadata": {
    "colab_type": "text",
    "id": "FrmBJScyJysG"
   },
   "source": [
    "5.1: Now we will use the Holt-Winters method, also called ExponentialSmoothing, on the same series of data. This allows for a trend (either additive or multiplicative), and seasonality (also, either additive or multiplicative), which we specify when we create the ExponentialSmoothing object. We also need to specify the number of periods to use for our seasonality.\n",
    "\n",
    "We'll create this object using this code:\n",
    "\n",
    "```\n",
    "ExponentialSmoothing(sales2, trend = \"add\", seasonal = \"add\", seasonal_periods = ?)\n",
    "```\n",
    "where you need to fill in the value of seasonal_periods. This is the number of periods (each datapoint is 1 period) over which we see the strongest repeating period. Keep in mind that each datapoint is a month, and keep in mind what you learned in question 1.4 and 1.5 about patterns in the data.\n",
    "\n",
    "Fit the Holt-Winters method and make a forecast for 12 periods."
   ]
  },
  {
   "cell_type": "code",
   "execution_count": 77,
   "metadata": {
    "colab": {
     "base_uri": "https://localhost:8080/",
     "height": 70
    },
    "colab_type": "code",
    "executionInfo": {
     "elapsed": 353,
     "status": "ok",
     "timestamp": 1588621786691,
     "user": {
      "displayName": "Jenny Cao",
      "photoUrl": "",
      "userId": "01180664302881281385"
     },
     "user_tz": 240
    },
    "id": "pjJEuVujKPGH",
    "outputId": "20af3612-6b2c-48d4-9eba-fae34ce58644"
   },
   "outputs": [
    {
     "name": "stderr",
     "output_type": "stream",
     "text": [
      "C:\\Users\\bls24\\Anaconda3\\lib\\site-packages\\statsmodels\\tsa\\base\\tsa_model.py:165: ValueWarning: No frequency information was provided, so inferred frequency MS will be used.\n",
      "  % freq, ValueWarning)\n",
      "C:\\Users\\bls24\\Anaconda3\\lib\\site-packages\\statsmodels\\tsa\\holtwinters.py:711: ConvergenceWarning: Optimization failed to converge. Check mle_retvals.\n",
      "  ConvergenceWarning)\n"
     ]
    }
   ],
   "source": [
    "# YOUR CODE HERE\n",
    "fit3 = ExponentialSmoothing(sales2.astype(np.float), trend='mul', seasonal='mul', seasonal_periods=12).fit()\n",
    "fore3 = fit3.forecast(12)"
   ]
  },
  {
   "cell_type": "code",
   "execution_count": 78,
   "metadata": {},
   "outputs": [],
   "source": [
    "import datetime\n",
    "last_date = 1\n",
    "for i in df_102[\"Datetime\"]:\n",
    "    last_date = i\n",
    "forcast_dates2 = []\n",
    "for i in range(12):\n",
    "    forcast_dates2.append(last_date + datetime.timedelta(days=(31*i)))"
   ]
  },
  {
   "cell_type": "markdown",
   "metadata": {
    "colab_type": "text",
    "id": "mEFzi_G2KZ_e"
   },
   "source": [
    "5.2: Plot the fit, forecasts, and original sales data."
   ]
  },
  {
   "cell_type": "code",
   "execution_count": 79,
   "metadata": {
    "colab": {
     "base_uri": "https://localhost:8080/",
     "height": 312
    },
    "colab_type": "code",
    "executionInfo": {
     "elapsed": 459,
     "status": "ok",
     "timestamp": 1588621791790,
     "user": {
      "displayName": "Jenny Cao",
      "photoUrl": "",
      "userId": "01180664302881281385"
     },
     "user_tz": 240
    },
    "id": "hjdGZNpbBfWR",
    "outputId": "8a147bca-b483-4907-ad62-2533ebd65c7f"
   },
   "outputs": [
    {
     "data": {
      "text/plain": [
       "[<matplotlib.lines.Line2D at 0x1fddbe17668>]"
      ]
     },
     "execution_count": 79,
     "metadata": {},
     "output_type": "execute_result"
    },
    {
     "data": {
      "image/png": "[encoded data removed]",
      "text/plain": [
       "<Figure size 720x360 with 1 Axes>"
      ]
     },
     "metadata": {
      "needs_background": "light"
     },
     "output_type": "display_data"
    }
   ],
   "source": [
    "## YOUR CODE HERE\n",
    "# YOUR CODE HERE\n",
    "plt.figure(figsize=(10,5))\n",
    "plt.plot(df_102[\"Datetime\"],df_102[\"TotalProductSales\"], label = 'original data')\n",
    "plt.plot(df_102[\"Datetime\"],fit3.fittedvalues, label='fitted values')\n",
    "plt.plot(forcast_dates2,fore3, label='forcast')"
   ]
  },
  {
   "cell_type": "markdown",
   "metadata": {
    "colab_type": "text",
    "id": "IdtvGSvEKijX"
   },
   "source": [
    "This is a good opportunity to changing the trend and seasonality type to see what happens.  You can set this to `\"mul\"` for either `trend` or `seasonal` to use a multiplicative trend or seasonality."
   ]
  },
  {
   "cell_type": "markdown",
   "metadata": {
    "colab_type": "text",
    "id": "HJKPXPKIKuW-"
   },
   "source": [
    "If you chose seasonal_periods well, you should see that this method works really well --- much better than the other methods.\n",
    "\n",
    "5.3 Calculate the sum of squared errors between this method's predictions and the actual value. How does it compare to the sum of squared errors for the other methods?"
   ]
  },
  {
   "cell_type": "code",
   "execution_count": 83,
   "metadata": {},
   "outputs": [
    {
     "data": {
      "text/plain": [
       "50596558278.93631"
      ]
     },
     "execution_count": 83,
     "metadata": {},
     "output_type": "execute_result"
    }
   ],
   "source": [
    "# YOUR CODE HERE\n",
    "sse = 0\n",
    "for i in range(len(sales2)):\n",
    "    sse += (fit3.fittedvalues[i] - sales2[i])**2\n",
    "sse"
   ]
  },
  {
   "cell_type": "markdown",
   "metadata": {},
   "source": [
    "5.4: What is it that this method does that allows it to do so well?"
   ]
  },
  {
   "cell_type": "markdown",
   "metadata": {
    "colab_type": "text",
    "id": "EmwKfX8fK1C8"
   },
   "source": [
    "**The method is able to fit and forecast the data so well because it includes seasonality in the fitted data and also in the forecast**"
   ]
  }
 ],
 "metadata": {
  "colab": {
   "name": "Rec12 SOLUTIONS.ipynb",
   "provenance": [],
   "toc_visible": true
  },
  "kernelspec": {
   "display_name": "Python 3",
   "language": "python",
   "name": "python3"
  },
  "language_info": {
   "codemirror_mode": {
    "name": "ipython",
    "version": 3
   },
   "file_extension": ".py",
   "mimetype": "text/x-python",
   "name": "python",
   "nbconvert_exporter": "python",
   "pygments_lexer": "ipython3",
   "version": "3.7.3"
  }
 },
 "nbformat": 4,
 "nbformat_minor": 1
}
